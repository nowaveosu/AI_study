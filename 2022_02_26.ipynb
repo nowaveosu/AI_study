{
 "cells": [
  {
   "cell_type": "markdown",
   "id": "349c97fd-7239-40d6-9f16-6a9fd630c87c",
   "metadata": {},
   "source": [
    "### 수치미분 예제"
   ]
  },
  {
   "cell_type": "code",
   "execution_count": 10,
   "id": "9dc104bf-2916-4963-89cf-9c59fc9c450f",
   "metadata": {},
   "outputs": [],
   "source": [
    "#수치미분 리뷰\n",
    "import numpy as np\n",
    "\n",
    "def numerical_derivative(f, x): #f는 다변수함수, x는 하나이상의 입력변수 모두 ex(x,y)\n",
    "    delta_x = 1e-4 \n",
    "    grad = np.zeros_like(x) #grad변수는 수치미분값을 저장할것임 \n",
    "    \n",
    "    it = np.nditer(x, flags = ['multi_index'], op_flags = ['readwrite'])\n",
    "    #it는 넘파이의 모든 요소를 가리키는 iterator이다\n",
    "    \n",
    "    while not it.finished: #변수개수만큼 반복\n",
    "        idx = it.multi_index\n",
    "        \n",
    "        tmp_val = x[idx]   #numpy타입은 mutable이므로 원본값 보관\n",
    "        x[idx] = float(tmp_val) + delta_x   #히나의 변수에 대한 수치미분 계산\n",
    "        fx1 = f(x)\n",
    "        \n",
    "        x[idx] = tm_val - delta_x\n",
    "        fx2 = f(x)\n",
    "        grad[idx] = (fx1-fx2) / (2*delta_x) #편미분결과값 grad에 저장\n",
    "        \n",
    "        x[idx] = tmp_val  #x에 원본값 전달\n",
    "        it.iternext()\n",
    "        \n",
    "    return grad #결과값 리턴"
   ]
  },
  {
   "cell_type": "code",
   "execution_count": 11,
   "id": "22badc50-7eee-4cf8-9b3b-40e8d4859c2b",
   "metadata": {},
   "outputs": [],
   "source": [
    "#수치미분예제 1 f(x) = x^2, f'(3, 0)\n",
    "def func1(input_obj): #벡터나 행렬을 인수로함\n",
    "    x = input_obj[0]\n",
    "    return x**2"
   ]
  },
  {
   "cell_type": "code",
   "execution_count": 12,
   "id": "31764862-8e07-4f27-8f9a-93256f8b67a7",
   "metadata": {},
   "outputs": [],
   "source": [
    "\n",
    "import numpy as np\n",
    "\n",
    "def numerical_derivative(f, x): #f는 다변수함수, x는 하나이상의 입력변수 모두 ex(x,y)\n",
    "    delta_x = 1e-4 \n",
    "    grad = np.zeros_like(x) #grad변수는 수치미분값을 저장할것임 \n",
    "    print(\"debug 1. inital input variable =\", x)\n",
    "    print(\"debug 2. inital grad =\", grad)\n",
    "    print(\"============================================\")\n",
    "    it = np.nditer(x, flags = ['multi_index'], op_flags = ['readwrite'])\n",
    "    #it는 넘파이의 모든 요소를 가리키는 iterator이다\n",
    "    \n",
    "    while not it.finished: #변수개수만큼 반복\n",
    "        idx = it.multi_index\n",
    "        \n",
    "        print(\"debug 3. idx =\", idx, \", x[idx]= \", x[idx])\n",
    "        \n",
    "        tmp_val = x[idx]   #numpy타입은 mutable이므로 원본값 보관\n",
    "        x[idx] = float(tmp_val) + delta_x   #히나의 변수에 대한 수치미분 계산\n",
    "        fx1 = f(x)\n",
    "        \n",
    "        x[idx] = tmp_val - delta_x\n",
    "        fx2 = f(x)\n",
    "        grad[idx] = (fx1-fx2) / (2*delta_x) #편미분결과값 grad에 저장\n",
    "        \n",
    "        print(\"debug 4. grad[idx]\", grad[idx])\n",
    "        print(\"debug 5. grad = \", grad)\n",
    "        print(\"============================================\")\n",
    "        \n",
    "        x[idx] = tmp_val  #x에 원본값 전달\n",
    "        it.iternext()\n",
    "        \n",
    "    return grad #결과값 리턴"
   ]
  },
  {
   "cell_type": "code",
   "execution_count": 9,
   "id": "25eb136f-4efc-43b1-9255-4851a4f661e4",
   "metadata": {},
   "outputs": [
    {
     "name": "stdout",
     "output_type": "stream",
     "text": [
      "debug 1. inital input variable = [3.]\n",
      "debug 2. inital grad = [0.]\n",
      "============================================\n",
      "debug 3. idx = (0,) , x[idx]=  3.0\n",
      "debug 4. grad[idx] 6.000000000012662\n",
      "debug 5. grad =  [6.]\n",
      "============================================\n"
     ]
    },
    {
     "data": {
      "text/plain": [
       "array([6.])"
      ]
     },
     "execution_count": 9,
     "metadata": {},
     "output_type": "execute_result"
    }
   ],
   "source": [
    "#x = 3.0에서의 편미분값\n",
    "numerical_derivative( func1, np.array([3.0]))"
   ]
  },
  {
   "cell_type": "code",
   "execution_count": 15,
   "id": "34ea7ae9-7152-46f9-9850-feeb537158a8",
   "metadata": {},
   "outputs": [],
   "source": [
    "#예제2 f(x,y) = 2x+3xy+y^3, f'(1.0, 2.0)\n",
    "def func1(input_obj):\n",
    "    x = input_obj[0]\n",
    "    y = input_obj[1]\n",
    "    return (2*x+3*x*y+np.power(y,3))"
   ]
  },
  {
   "cell_type": "code",
   "execution_count": 16,
   "id": "f4ce9b33-8aef-4db3-9926-625b28cc6d9f",
   "metadata": {},
   "outputs": [
    {
     "name": "stdout",
     "output_type": "stream",
     "text": [
      "debug 1. inital input variable = [1. 2.]\n",
      "debug 2. inital grad = [0. 0.]\n",
      "============================================\n",
      "debug 3. idx = (0,) , x[idx]=  1.0\n",
      "debug 4. grad[idx] 7.999999999990237\n",
      "debug 5. grad =  [8. 0.]\n",
      "============================================\n",
      "debug 3. idx = (1,) , x[idx]=  2.0\n",
      "debug 4. grad[idx] 15.000000010019221\n",
      "debug 5. grad =  [ 8.         15.00000001]\n",
      "============================================\n"
     ]
    },
    {
     "data": {
      "text/plain": [
       "array([ 8.        , 15.00000001])"
      ]
     },
     "execution_count": 16,
     "metadata": {},
     "output_type": "execute_result"
    }
   ],
   "source": [
    "#(x,y) = (1.0,2.0) 에서의 편미분 값\n",
    "input = np.array([1.0,2.0])\n",
    "numerical_derivative(func1, input)"
   ]
  },
  {
   "cell_type": "code",
   "execution_count": 17,
   "id": "1d537cfe-719a-4c11-b7b1-18a60a63df0d",
   "metadata": {},
   "outputs": [],
   "source": [
    "# 4변수함수 미분구하기\n",
    "# f(w,x,y,z) = wx + xyz + 3w + zy^2, f'(1.0,2.0,3.0,4.0)\n",
    "def func1(input_obj):\n",
    "    \n",
    "    w = input_obj[0,0] #이번엔 행렬로 전달\n",
    "    x = input_obj[0,1] #이번엔 행렬로 전달\n",
    "    y = input_obj[1,0] #이번엔 행렬로 전달\n",
    "    z = input_obj[1,1] #이번엔 행렬로 전달\n",
    "    \n",
    "    return (w*x + x*y*z + 3*w + z*np.power(y,2) )"
   ]
  },
  {
   "cell_type": "code",
   "execution_count": 19,
   "id": "9bf46a1d-d9b6-4912-9bc0-22920765d72e",
   "metadata": {},
   "outputs": [
    {
     "name": "stdout",
     "output_type": "stream",
     "text": [
      "debug 1. inital input variable = [[1. 2.]\n",
      " [3. 4.]]\n",
      "debug 2. inital grad = [[0. 0.]\n",
      " [0. 0.]]\n",
      "============================================\n",
      "debug 3. idx = (0, 0) , x[idx]=  1.0\n",
      "debug 4. grad[idx] 5.000000000023874\n",
      "debug 5. grad =  [[5. 0.]\n",
      " [0. 0.]]\n",
      "============================================\n",
      "debug 3. idx = (0, 1) , x[idx]=  2.0\n",
      "debug 4. grad[idx] 13.00000000000523\n",
      "debug 5. grad =  [[ 5. 13.]\n",
      " [ 0.  0.]]\n",
      "============================================\n",
      "debug 3. idx = (1, 0) , x[idx]=  3.0\n",
      "debug 4. grad[idx] 32.00000000006753\n",
      "debug 5. grad =  [[ 5. 13.]\n",
      " [32.  0.]]\n",
      "============================================\n",
      "debug 3. idx = (1, 1) , x[idx]=  4.0\n",
      "debug 4. grad[idx] 15.000000000000568\n",
      "debug 5. grad =  [[ 5. 13.]\n",
      " [32. 15.]]\n",
      "============================================\n"
     ]
    },
    {
     "data": {
      "text/plain": [
       "array([[ 5., 13.],\n",
       "       [32., 15.]])"
      ]
     },
     "execution_count": 19,
     "metadata": {},
     "output_type": "execute_result"
    }
   ],
   "source": [
    "#입력을 2x2행렬로 구성함\n",
    "input = np.array([ [1.0,2.0], [3.0,4.0] ] )\n",
    "numerical_derivative(func1, input)\n",
    "#디버그문 while문 돌아가는걸 보면\n",
    "#입력변수 w값 > x변수 > y변수 > z변수 순으로 편미분이 계산되고 grad에 저장되는걸 볼수있다"
   ]
  }
 ],
 "metadata": {
  "kernelspec": {
   "display_name": "Python 3 (ipykernel)",
   "language": "python",
   "name": "python3"
  },
  "language_info": {
   "codemirror_mode": {
    "name": "ipython",
    "version": 3
   },
   "file_extension": ".py",
   "mimetype": "text/x-python",
   "name": "python",
   "nbconvert_exporter": "python",
   "pygments_lexer": "ipython3",
   "version": "3.8.5"
  }
 },
 "nbformat": 4,
 "nbformat_minor": 5
}
