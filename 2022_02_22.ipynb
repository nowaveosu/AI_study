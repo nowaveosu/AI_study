{
 "cells": [
  {
   "cell_type": "markdown",
   "id": "182a66b7-6030-4ae4-8428-6753dd8b7c8f",
   "metadata": {},
   "source": [
    "### numpy (2)"
   ]
  },
  {
   "cell_type": "markdown",
   "id": "c8589349-d2a9-4fe1-bdd9-5de26e9f9e57",
   "metadata": {},
   "source": [
    "#### 행렬 곱(dot product)"
   ]
  },
  {
   "cell_type": "code",
   "execution_count": 1,
   "id": "2d3c948f-6fbc-4155-860c-4f14bcc9ca18",
   "metadata": {},
   "outputs": [
    {
     "name": "stdout",
     "output_type": "stream",
     "text": [
      "A.shape== (2, 3) B.shape== (3, 2) C.shape== (2, 2)\n",
      "[[-22 -28]\n",
      " [-49 -64]]\n"
     ]
    }
   ],
   "source": [
    "#앞벡터의 열벡터와 뒷벡터의 행벡터가 같아야함\n",
    "#같지 않다면 reshape나 transpose를 해서 맞춰줄것\n",
    "import numpy as np\n",
    "A = np.array([ [1,2,3], [4,5,6] ]) #2*3 행렬 (가로로길쭉)\n",
    "B = np.array([ [-1,-2], [-3, -4], [-5,-6] ]) # 3*2행렬\n",
    "\n",
    "#(2x3) dot product (3x2) == (2x2) 행렬\n",
    "C = np.dot(A,B) #행렬 곱 수행\n",
    "\n",
    "#matrix A, B 형상 출력 => shape\n",
    "print(\"A.shape==\", A.shape,\"B.shape==\", B.shape,\"C.shape==\", C.shape)\n",
    "print(C)"
   ]
  },
  {
   "cell_type": "code",
   "execution_count": 2,
   "id": "5425c22f-c582-417e-b2e8-09297865456e",
   "metadata": {},
   "outputs": [],
   "source": [
    "#행렬의 사칙연산은 입력행렬과 A*B를 다 맞춰줘야 하나 행렬곱은 원하는크기 행렬을 만들수있음\n",
    "#특성값행렬이 매우커도 열과 행벡터만 맞춰주면 됨"
   ]
  },
  {
   "cell_type": "markdown",
   "id": "01b187af-e891-438a-82ab-f1b4e678558e",
   "metadata": {},
   "source": [
    "#### numpy broadcast"
   ]
  },
  {
   "cell_type": "code",
   "execution_count": 3,
   "id": "0d4806a2-906a-4b3e-9d78-33d17643c347",
   "metadata": {},
   "outputs": [
    {
     "name": "stdout",
     "output_type": "stream",
     "text": [
      "[[6 7]\n",
      " [8 9]]\n"
     ]
    }
   ],
   "source": [
    "#크기가 다른 두행렬간에도 사칙연산을 할수있도록 확장해주는기능\n",
    "#차원이 작은쪽이 큰쪽의 행단위로 반복적으로크기맞추고 계산\n",
    "A = np.array([ [1,2], [3,4] ])\n",
    "b = 5\n",
    "\n",
    "print(A+b) #b를 ([ [5,5], [5,5] ])로 맞춰줌\n"
   ]
  },
  {
   "cell_type": "code",
   "execution_count": 4,
   "id": "9160dfed-608f-4ef2-9054-2c17245c8a57",
   "metadata": {},
   "outputs": [
    {
     "name": "stdout",
     "output_type": "stream",
     "text": [
      "[[5 7]\n",
      " [7 9]]\n"
     ]
    }
   ],
   "source": [
    "C = np.array([ [1,2], [3,4] ])\n",
    "D = np.array([4,5])\n",
    "print(C+D) #np.array([4,5], [4,5])로 맞춰줌\n",
    "#단, 이건 행렬곱에는 적용안됨"
   ]
  },
  {
   "cell_type": "markdown",
   "id": "57f5034e-35b1-4e40-a1e1-1d70d8f62a91",
   "metadata": {},
   "source": [
    "#### 전치행렬(transpose)"
   ]
  },
  {
   "cell_type": "code",
   "execution_count": 5,
   "id": "c6e74826-e5c5-40e4-85e9-51e3f00ce650",
   "metadata": {},
   "outputs": [
    {
     "name": "stdout",
     "output_type": "stream",
     "text": [
      "(3, 2) (2, 3)\n",
      "[[1 2]\n",
      " [3 4]\n",
      " [5 6]]\n",
      "[[1 3 5]\n",
      " [2 4 6]]\n"
     ]
    }
   ],
   "source": [
    "#1행(가로)는 1열로 2행은 2열로 바뀐 행렬\n",
    "A = np.array([ [1,2], [3,4], [5,6] ]) #3x2행렬\n",
    "B = A.T\n",
    "print(A.shape, B.shape)\n",
    "print(A)\n",
    "print(B)"
   ]
  },
  {
   "cell_type": "code",
   "execution_count": 6,
   "id": "2d3ce31c-a3e2-4362-98b3-d69cfe68af2e",
   "metadata": {},
   "outputs": [
    {
     "name": "stdout",
     "output_type": "stream",
     "text": [
      "(5,)\n",
      "(5,)\n",
      "(1, 5)\n",
      "(5, 1)\n",
      "[[1]\n",
      " [2]\n",
      " [3]\n",
      " [4]\n",
      " [5]]\n"
     ]
    }
   ],
   "source": [
    "#vector 전치행렬\n",
    "#벡터는 열과 행을 구별하지 않음\n",
    "C = np.array([1,2,3,4,5])\n",
    "D = C.T\n",
    "E = C.reshape(1,5) #1*5행렬로 reshape\n",
    "F = E.T\n",
    "print(C.shape)\n",
    "print(D.shape) #벡터라서 전치안됨\n",
    "print(E.shape)\n",
    "print(F.shape) #이렇게해야적용됨\n",
    "print(F)"
   ]
  },
  {
   "cell_type": "markdown",
   "id": "d334f3f3-adc2-4da3-87fe-39cce8d2fab6",
   "metadata": {},
   "source": [
    "#### 행렬 인덱싱, 슬라이싱"
   ]
  },
  {
   "cell_type": "code",
   "execution_count": 7,
   "id": "a31e5613-a486-4409-a4a6-c5a0b87cf6fe",
   "metadata": {},
   "outputs": [
    {
     "name": "stdout",
     "output_type": "stream",
     "text": [
      "(3, 2)\n",
      "[[10 20]\n",
      " [30 40]\n",
      " [50 60]]\n"
     ]
    }
   ],
   "source": [
    "#리스트처럼 인덱싱, 슬라이싱 가능\n",
    "A = np.array([10,20,30,40,50,60]).reshape(3,2)\n",
    "print(A.shape)\n",
    "print(A)"
   ]
  },
  {
   "cell_type": "code",
   "execution_count": 8,
   "id": "d5074d15-ba6e-422a-8134-c1a28cef1aa5",
   "metadata": {},
   "outputs": [
    {
     "name": "stdout",
     "output_type": "stream",
     "text": [
      "10\n",
      "[10 20] [0]\n",
      "60\n",
      "[50 60] [1]\n"
     ]
    }
   ],
   "source": [
    "print(A[0,0]) #행,열\n",
    "print(A[0],[0]) #행 열 (같은뜻이다)\n",
    "print(A[2,1])\n",
    "print(A[2],[1])"
   ]
  },
  {
   "cell_type": "code",
   "execution_count": 9,
   "id": "a038b0a0-a555-4cf3-b356-ec966761d3eb",
   "metadata": {},
   "outputs": [
    {
     "name": "stdout",
     "output_type": "stream",
     "text": [
      "A[0:-1, 1:2] == [[20]\n",
      " [40]]\n"
     ]
    }
   ],
   "source": [
    "#인덱스 0인 1행부터 인덱스 -1-1=2인 2행까지의 모든 데이터\n",
    "# , 뒤에는 열임 2열부터 2-1=1인 2열까지의 모든데이터\n",
    "# 1:4이면 1+1:4-1이므로 2번째부터 3번째까지인샘 \n",
    "print(\"A[0:-1, 1:2] ==\", A[0:-1, 1:2])"
   ]
  },
  {
   "cell_type": "code",
   "execution_count": 10,
   "id": "0af652b9-44d9-4ef5-a02f-82c235ad603e",
   "metadata": {},
   "outputs": [
    {
     "name": "stdout",
     "output_type": "stream",
     "text": [
      "A[:,0]== [10 30 50]\n",
      "A[:,:]== [[10 20]\n",
      " [30 40]\n",
      " [50 60]]\n"
     ]
    }
   ],
   "source": [
    "print(\"A[:,0]==\",A[:,0]) #모든행 열하나 (길쭉한 10 30 50임)\n",
    "print(\"A[:,:]==\",A[:,:]) #모든열"
   ]
  },
  {
   "cell_type": "markdown",
   "id": "a5652e9a-632d-4a09-b62f-2adc746a870c",
   "metadata": {},
   "source": [
    "#### numpy행렬 iterator"
   ]
  },
  {
   "cell_type": "code",
   "execution_count": 11,
   "id": "e0ccc265-7b74-4101-a2db-9bb87c7a7af9",
   "metadata": {},
   "outputs": [
    {
     "name": "stdout",
     "output_type": "stream",
     "text": [
      "[[10 20 30 40]\n",
      " [50 60 70 80]] \n",
      "\n",
      "A.shape == (2, 4) \n",
      "\n",
      "current value =>  10\n",
      "current value =>  20\n",
      "current value =>  30\n",
      "current value =>  40\n",
      "current value =>  50\n",
      "current value =>  60\n",
      "current value =>  70\n",
      "current value =>  80\n"
     ]
    }
   ],
   "source": [
    "#행렬의 모든원소를 첨부터 끈까지 access하는 경우 사용\n",
    "#next()메서드를 통해 데이터값을 첨부터 끝까지 순차적으로 읽음\n",
    "import numpy as np\n",
    "A = np.array([ [10,20,30,40], [50, 60, 70, 80] ])\n",
    "print(A,\"\\n\")\n",
    "print(\"A.shape ==\", A.shape, \"\\n\")\n",
    "#행렬A의 iterator생성\n",
    "it = np.nditer(A, flags =['multi_index'], op_flags=['readwrite'])\n",
    "while not it.finished:\n",
    "    idx = it.multi_index\n",
    "    print(\"current value => \", A[idx])\n",
    "    it.iternext()\n",
    "#2x4행렬의 경우 (0,0)=>(0,1)..순서로 access 가져올수 있음\n",
    "                                        "
   ]
  }
 ],
 "metadata": {
  "kernelspec": {
   "display_name": "Python 3 (ipykernel)",
   "language": "python",
   "name": "python3"
  },
  "language_info": {
   "codemirror_mode": {
    "name": "ipython",
    "version": 3
   },
   "file_extension": ".py",
   "mimetype": "text/x-python",
   "name": "python",
   "nbconvert_exporter": "python",
   "pygments_lexer": "ipython3",
   "version": "3.8.5"
  }
 },
 "nbformat": 4,
 "nbformat_minor": 5
}
