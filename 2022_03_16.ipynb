{
 "cells": [
  {
   "cell_type": "markdown",
   "id": "0d72c4aa-08c1-4c9e-a633-9123439b1793",
   "metadata": {},
   "source": [
    "### 딥러닝(2)"
   ]
  },
  {
   "cell_type": "code",
   "execution_count": 3,
   "id": "83bd461b-f8ca-486d-850a-494b4a8f1d39",
   "metadata": {},
   "outputs": [],
   "source": [
    "# logistic regression\n",
    "# x > z(선형회귀값) > y(로지스틱 회귀값)\n",
    "# 딥러닝\n",
    "# 1개 입력층 여러개 은닉층 1개 출력층 (여러 logistic 으로 이뤄져있음)\n",
    "# 가중치 점점 더해가는걸 피드포워드라 함"
   ]
  },
  {
   "cell_type": "code",
   "execution_count": 4,
   "id": "c99f6b1e-f931-4282-8132-a56a1cab019b",
   "metadata": {},
   "outputs": [],
   "source": [
    "# w21은 계층1의 노드1로부터 계층2의 노드2로 전해지는 가중치\n",
    "# 바이어스b1^(2) 은 계층 (2) 의 첫번째 노드의 바이어스임을 나타냄\n",
    "# Z1(2) 계층2의 첫번째노드의 선형회귀값\n",
    "# 노드의 출력값 a2(2) > 계층 2의 두번째노드 출력값으로서, logistic regression계산값"
   ]
  },
  {
   "cell_type": "markdown",
   "id": "480be94c-fab5-4366-92f3-b55ce534111d",
   "metadata": {},
   "source": [
    "#### feed forward"
   ]
  },
  {
   "cell_type": "code",
   "execution_count": 6,
   "id": "0b79bd6c-8ed2-4f40-9a4f-8cacacea0c95",
   "metadata": {},
   "outputs": [],
   "source": [
    "#입력층으로 데이터가 입력되고 여러개의 은닉층을 거쳐 출력층으로 출력값을 내보내는과정\n",
    "#입력층의 출력 a1 a2는 시그모이드를 적용하지 않고 출력으로 나감\n",
    "#a1(1) = x1, a2(1) = x2\n",
    "#은닉층 선형회귀 값\n",
    "#z1(2) = a1(1)w11(2) + a2(1)w12(2)+b1(2)\n",
    "# sigmoid(z)=a1(2)로 출력된다.\n",
    "# 출력층 선형회귀 값\n",
    "# z1(3) = a1(2)w11(3) + a2(2)w12(3)+b1(3)\n",
    "# y = a1(3) = sigmoid(z1(3))\n",
    "# y 값과 정답 t차이의 오차 loss를 통해서 가중치와 바이어스를 학습해야함"
   ]
  },
  {
   "cell_type": "code",
   "execution_count": 7,
   "id": "fd8d4cbb-25f3-43ed-9b30-ebb03314e9df",
   "metadata": {},
   "outputs": [],
   "source": [
    "# update W,b\n",
    "# W = W-a(dE(W,b)/dW)\n",
    "# b = b-a(dE(W,b)/db)\n",
    "# 이렇게 W,b를 업데이트함"
   ]
  },
  {
   "cell_type": "code",
   "execution_count": null,
   "id": "4ebcc50d-d401-4c2c-a84a-4c74bd255b97",
   "metadata": {},
   "outputs": [],
   "source": []
  }
 ],
 "metadata": {
  "kernelspec": {
   "display_name": "Python 3 (ipykernel)",
   "language": "python",
   "name": "python3"
  },
  "language_info": {
   "codemirror_mode": {
    "name": "ipython",
    "version": 3
   },
   "file_extension": ".py",
   "mimetype": "text/x-python",
   "name": "python",
   "nbconvert_exporter": "python",
   "pygments_lexer": "ipython3",
   "version": "3.8.5"
  }
 },
 "nbformat": 4,
 "nbformat_minor": 5
}
