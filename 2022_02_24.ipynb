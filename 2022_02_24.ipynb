{
 "cells": [
  {
   "cell_type": "markdown",
   "id": "cb89bb43-43c6-4971-bbce-aacd97ca4826",
   "metadata": {},
   "source": [
    "#### 수치미분(1)"
   ]
  },
  {
   "cell_type": "code",
   "execution_count": 3,
   "id": "fb5946d9-43f0-459b-a88d-f3c9381b31c2",
   "metadata": {},
   "outputs": [],
   "source": [
    "#입력값X의 변화가 함수 f(x)에 얼마나 민감히 반응하는가?\n",
    "#예를들어 f(x)=x^2일 경우 f'(x) = 2x\n",
    "#f'(3) = 6 해석 입력 x=3을 미세히 변화시킬때 함수는 현재 입력값의 2배인 6배 변화를 일으킴을 의미\n"
   ]
  },
  {
   "cell_type": "code",
   "execution_count": 5,
   "id": "adb56d6f-3134-4937-8426-13aca19dfae9",
   "metadata": {},
   "outputs": [],
   "source": [
    "#딥러닝에서 자주사용되는 미분\n",
    "# f(x) = 상수 , f'(x) = 0\n",
    "# f(x) = ax^n > nax^(n-1)\n",
    "# f(x) = e^x > f'(x) = e^x\n",
    "# f(x) = e^-x > f'(x) = -e^-x\n",
    "# f(x) = lnx > f'(x) = 1/x"
   ]
  },
  {
   "cell_type": "markdown",
   "id": "a4114e99-2737-41dc-a64e-99afdd93dd4f",
   "metadata": {},
   "source": [
    "#### 편미분"
   ]
  },
  {
   "cell_type": "code",
   "execution_count": 6,
   "id": "8cd670e3-ff33-4b35-a110-5b1751f0bba0",
   "metadata": {},
   "outputs": [],
   "source": [
    "#편미분은 다변수 함수에서 변수하나를 정해놓고 나머지는 상수취급해서 미분하는것\n",
    "#df(x,y)/dx d가 아니라 라운드임\n",
    "# d(2x+3xy+y^3)/dx = 2+3y 이게 편미분"
   ]
  },
  {
   "cell_type": "markdown",
   "id": "522b1b0b-aa24-4f3d-a477-2b6c6eda5ece",
   "metadata": {},
   "source": [
    "#### 연쇄법칙(chain rule)"
   ]
  },
  {
   "cell_type": "code",
   "execution_count": null,
   "id": "583edafd-a892-4d3c-b4f1-62508512476b",
   "metadata": {},
   "outputs": [],
   "source": [
    "#합성함수란 여러 함수로 구성된 함수로서, 이러한 합성함수를 미분하려면 연쇄법칙 써야함\n",
    "# 예) f(x) = e^(3x^2) 는 e^t, t = 3x^2 로된 합성함수\n",
    "# df/dx = df/dt dt/dx = (e^t)(6x) = 6xe^(3x^2) \n",
    "# 겉미분 해준뒤 속미분해서 곱한다\n",
    "# e^-x > (-1)e^-x "
   ]
  }
 ],
 "metadata": {
  "kernelspec": {
   "display_name": "Python 3 (ipykernel)",
   "language": "python",
   "name": "python3"
  },
  "language_info": {
   "codemirror_mode": {
    "name": "ipython",
    "version": 3
   },
   "file_extension": ".py",
   "mimetype": "text/x-python",
   "name": "python",
   "nbconvert_exporter": "python",
   "pygments_lexer": "ipython3",
   "version": "3.8.5"
  }
 },
 "nbformat": 4,
 "nbformat_minor": 5
}
