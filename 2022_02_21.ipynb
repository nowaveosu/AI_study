{
 "cells": [
  {
   "cell_type": "markdown",
   "id": "56e3562d-807b-4ffe-96d6-256614b32c48",
   "metadata": {},
   "source": [
    "### numpy (1)"
   ]
  },
  {
   "cell_type": "code",
   "execution_count": 1,
   "id": "90ac3b88-8c15-47f9-a6d2-67c38e7e2655",
   "metadata": {},
   "outputs": [
    {
     "name": "stdout",
     "output_type": "stream",
     "text": [
      "A== [1 2] , type == <class 'numpy.ndarray'>\n"
     ]
    }
   ],
   "source": [
    "#import 방법\n",
    "import numpy\n",
    "\n",
    "A = numpy.array([1,2])\n",
    "print(\"A==\", A, \", type ==\", type(A))"
   ]
  },
  {
   "cell_type": "code",
   "execution_count": 2,
   "id": "dd9ab3d3-674f-4d9e-b547-2e40c525a3aa",
   "metadata": {},
   "outputs": [
    {
     "name": "stdout",
     "output_type": "stream",
     "text": [
      "A== [1 2] , type == <class 'numpy.ndarray'>\n"
     ]
    }
   ],
   "source": [
    "import numpy as np\n",
    "A = np.array([1,2])\n",
    "print(\"A==\", A, \", type ==\", type(A))"
   ]
  },
  {
   "cell_type": "code",
   "execution_count": 3,
   "id": "d436f3bd-a597-417e-b086-5cadb1c62ca7",
   "metadata": {},
   "outputs": [
    {
     "name": "stdout",
     "output_type": "stream",
     "text": [
      "result == 2.718281828459045 , type == <class 'numpy.float64'>\n"
     ]
    }
   ],
   "source": [
    "from numpy import exp #api를 .exp이지랄 말고 바로사용가능\n",
    "result = exp(1)\n",
    "print(\"result ==\", result, \", type ==\", type(result))"
   ]
  },
  {
   "cell_type": "code",
   "execution_count": 4,
   "id": "3817a84b-a761-440a-8aea-1638e0ca0bf6",
   "metadata": {},
   "outputs": [
    {
     "name": "stdout",
     "output_type": "stream",
     "text": [
      "result == 4.663123641894311 , type == <class 'numpy.float64'>\n"
     ]
    }
   ],
   "source": [
    "from numpy import * #전부 가져오기\n",
    "result = exp(1) + log(1.7) + sqrt(2)\n",
    "print(\"result ==\", result, \", type ==\", type(result))"
   ]
  },
  {
   "cell_type": "markdown",
   "id": "eb574ee5-a566-454b-9d11-73d5085b284a",
   "metadata": {},
   "source": [
    "#### vector/matrix 생성"
   ]
  },
  {
   "cell_type": "code",
   "execution_count": 5,
   "id": "23a78ee7-ef94-4dff-9163-53e44e30c5d3",
   "metadata": {},
   "outputs": [
    {
     "data": {
      "text/plain": [
       "[[1, 0], [0, 1], [1, 0], [0, 1]]"
      ]
     },
     "execution_count": 5,
     "metadata": {},
     "output_type": "execute_result"
    }
   ],
   "source": [
    "#numpy는 벡터, 행렬등을 표현, 연산에 사용\n",
    "import numpy as np\n",
    "\n",
    "# numpy없이 리스트로 행렬표현\n",
    "A = [ [1,0], [0,1] ]\n",
    "B = [ [1,0], [0,1] ]\n",
    "A + B #행렬 연산"
   ]
  },
  {
   "cell_type": "code",
   "execution_count": 6,
   "id": "92bf9176-49d6-491a-b592-19f1867af8f9",
   "metadata": {},
   "outputs": [
    {
     "data": {
      "text/plain": [
       "array([[2, 1],\n",
       "       [1, 2]])"
      ]
     },
     "execution_count": 6,
     "metadata": {},
     "output_type": "execute_result"
    }
   ],
   "source": [
    "#numpy matrix, 행렬연산에 필수\n",
    "A = np.array([ [1,0], [0,1] ])\n",
    "B = np.array([ [1,1], [1,1] ])\n",
    "A + B"
   ]
  },
  {
   "cell_type": "code",
   "execution_count": 7,
   "id": "2f425af2-2364-40d0-adf7-9eb1c9cfa1d3",
   "metadata": {},
   "outputs": [
    {
     "name": "stdout",
     "output_type": "stream",
     "text": [
      "A == [1 2 3] , B== [4 5 6]\n",
      "A.shape == (3,) , B.shape == (3,) , C.shape == (2, 3)\n",
      "A.ndim == 1 , B.ndim == 1 ,C.ndim == 2\n"
     ]
    }
   ],
   "source": [
    "#vector(1차원 배열)\n",
    "A = np.array([1,2,3])\n",
    "B = np.array([4,5,6]) #3열 vector\n",
    "C = np.array([ [1,2,6], [4,5,7] ]) #2행3열 matrix\n",
    "# vector A, B 출력\n",
    "print(\"A ==\", A, \", B==\", B)\n",
    "# vector A, B 형상 출력 => shape\n",
    "print(\"A.shape ==\", A.shape, \", B.shape ==\", B.shape, \", C.shape ==\", C.shape)\n",
    "# vector A, B 차원 출력 => ndim\n",
    "print(\"A.ndim ==\", A.ndim, \", B.ndim ==\", B.ndim, \",C.ndim ==\", C.ndim)"
   ]
  },
  {
   "cell_type": "code",
   "execution_count": 8,
   "id": "872e97d4-75ac-4fdd-9322-a1e5e8d22d36",
   "metadata": {},
   "outputs": [
    {
     "name": "stdout",
     "output_type": "stream",
     "text": [
      "A + B == [5 7 9]\n",
      "A - B == [-3 -3 -3]\n",
      "A * B == [ 4 10 18]\n",
      "A / B == [0.25 0.4  0.5 ]\n"
     ]
    }
   ],
   "source": [
    "#vector 산술 연산\n",
    "print(\"A + B ==\", A+B)\n",
    "print(\"A - B ==\", A-B)\n",
    "print(\"A * B ==\", A*B)\n",
    "print(\"A / B ==\", A/B)"
   ]
  },
  {
   "cell_type": "code",
   "execution_count": 9,
   "id": "9c8d12d7-44f1-4069-8d34-68425b460bad",
   "metadata": {},
   "outputs": [
    {
     "name": "stdout",
     "output_type": "stream",
     "text": [
      "A.shape == (2, 3) , B.shape == (2, 3)\n",
      "A.ndim == 2 , B.ndim == 2\n"
     ]
    }
   ],
   "source": [
    "A = np.array([ [1,2,3], [4,5,6] ]) #2*3 matrix\n",
    "B = np.array([ [-1,-2,-3], [-4,-5,-6]]) #2*3 matrix\n",
    "#matrix A,B 형상출력 => shape\n",
    "print(\"A.shape ==\", A.shape, \", B.shape ==\", B.shape)\n",
    "#matrix A,B 차원 출력 => ndim\n",
    "print(\"A.ndim ==\", A.ndim, \", B.ndim ==\", B.ndim)"
   ]
  },
  {
   "cell_type": "code",
   "execution_count": 10,
   "id": "bd0cb90f-7a25-482c-9a0d-e38d6df67449",
   "metadata": {},
   "outputs": [
    {
     "name": "stdout",
     "output_type": "stream",
     "text": [
      "C.shape == (3,)\n",
      "C.shape == (1, 3)\n"
     ]
    }
   ],
   "source": [
    "C = np.array([1,2,3])\n",
    "#vector C형상 출력 => shape\n",
    "print(\"C.shape ==\", C.shape)\n",
    "#vector를 (1,3) 행렬로 형 변환 (길쭉해짐)Transpose된거 \n",
    "C = C.reshape(1, 3)\n",
    "print(\"C.shape ==\", C.shape) "
   ]
  }
 ],
 "metadata": {
  "kernelspec": {
   "display_name": "Python 3 (ipykernel)",
   "language": "python",
   "name": "python3"
  },
  "language_info": {
   "codemirror_mode": {
    "name": "ipython",
    "version": 3
   },
   "file_extension": ".py",
   "mimetype": "text/x-python",
   "name": "python",
   "nbconvert_exporter": "python",
   "pygments_lexer": "ipython3",
   "version": "3.8.5"
  }
 },
 "nbformat": 4,
 "nbformat_minor": 5
}
