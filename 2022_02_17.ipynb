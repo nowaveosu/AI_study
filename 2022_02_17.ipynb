{
 "cells": [
  {
   "cell_type": "markdown",
   "id": "1674dec9-5186-4365-a643-74b4d988594b",
   "metadata": {},
   "source": [
    "### python data type"
   ]
  },
  {
   "cell_type": "markdown",
   "id": "16b5d571-030c-4739-b965-042da5c16bc0",
   "metadata": {},
   "source": [
    "#### 2. tuple "
   ]
  },
  {
   "cell_type": "code",
   "execution_count": 1,
   "id": "dedca8bd-103f-41ee-9411-89f30faa81da",
   "metadata": {},
   "outputs": [],
   "source": [
    "#배열은 [] 튜플은()로 둘러싼다. 특징은 원소변경불가"
   ]
  },
  {
   "cell_type": "code",
   "execution_count": 2,
   "id": "704d3f9f-d039-4afb-bee5-83c01815102c",
   "metadata": {},
   "outputs": [
    {
     "name": "stdout",
     "output_type": "stream",
     "text": [
      "10\n"
     ]
    }
   ],
   "source": [
    "a = (10,20,30,40,50)\n",
    "print(a[0]) #쓸때는 a[n]꼴\n",
    "#a[0] = 100 처럼 원소변경불가"
   ]
  },
  {
   "cell_type": "markdown",
   "id": "f562b91a-6d3c-4c6b-8f25-1944d1caa84e",
   "metadata": {},
   "source": [
    "#### 3. dictionary"
   ]
  },
  {
   "cell_type": "code",
   "execution_count": 3,
   "id": "804ddc3a-7be4-42e0-8bc1-4e923f4257d2",
   "metadata": {},
   "outputs": [],
   "source": [
    "# key, value를 한쌍으로 데이터를 저장함\n",
    "score = { \"kim\":90, \"lee\":85, \"jun\":95}"
   ]
  },
  {
   "cell_type": "code",
   "execution_count": 4,
   "id": "7c466e54-aae6-41ac-b230-10ef406d236a",
   "metadata": {},
   "outputs": [
    {
     "name": "stdout",
     "output_type": "stream",
     "text": [
      "90\n"
     ]
    }
   ],
   "source": [
    "print(score['kim']) #value로 print(score[90]) 이건안됨"
   ]
  },
  {
   "cell_type": "code",
   "execution_count": 5,
   "id": "46d66f75-ffd1-4ece-8b76-35c1cbf4fbf6",
   "metadata": {},
   "outputs": [
    {
     "name": "stdout",
     "output_type": "stream",
     "text": [
      "{'kim': 90, 'lee': 85, 'jun': 95, 'han': 100}\n"
     ]
    }
   ],
   "source": [
    "#새원소 추가는 꼭 순서대로는 아님\n",
    "score['han'] = 100\n",
    "print(score)"
   ]
  },
  {
   "cell_type": "code",
   "execution_count": 6,
   "id": "060d4071-bc29-4481-b3f4-b13c97bafca5",
   "metadata": {},
   "outputs": [
    {
     "name": "stdout",
     "output_type": "stream",
     "text": [
      "dict_keys(['kim', 'lee', 'jun', 'han'])\n",
      "dict_values([90, 85, 95, 100])\n",
      "score items == dict_items([('kim', 90), ('lee', 85), ('jun', 95), ('han', 100)])\n"
     ]
    }
   ],
   "source": [
    "print(score.keys())\n",
    "print(score.values())\n",
    "print(\"score items ==\", score.items())"
   ]
  },
  {
   "cell_type": "markdown",
   "id": "207236c0-dbb5-482c-a6bc-eab48767637a",
   "metadata": {},
   "source": [
    "#### 4. string"
   ]
  },
  {
   "cell_type": "code",
   "execution_count": 7,
   "id": "ad9280ec-c5a0-413e-8dd6-eaaa3aa1efcb",
   "metadata": {},
   "outputs": [
    {
     "data": {
      "text/plain": [
       "'7'"
      ]
     },
     "execution_count": 7,
     "metadata": {},
     "output_type": "execute_result"
    }
   ],
   "source": [
    "#문자열은 ''또는 \"\"로 생성, 각각 문자를 인덱스로 인식함\n",
    "a = 'A74,CD'\n",
    "a[1]"
   ]
  },
  {
   "cell_type": "code",
   "execution_count": 8,
   "id": "10904fa6-1b81-464c-ba3b-6e4c6877a06d",
   "metadata": {},
   "outputs": [
    {
     "data": {
      "text/plain": [
       "'A74,CD, EFG'"
      ]
     },
     "execution_count": 8,
     "metadata": {},
     "output_type": "execute_result"
    }
   ],
   "source": [
    "a = a + ', EFG'\n",
    "a"
   ]
  },
  {
   "cell_type": "code",
   "execution_count": 9,
   "id": "9017eed8-0653-4921-90e2-676c46f3dbe0",
   "metadata": {},
   "outputs": [
    {
     "name": "stdout",
     "output_type": "stream",
     "text": [
      "['A74', 'CD', ' EFG']\n"
     ]
    }
   ],
   "source": [
    "#머신러닝에서 사용되는 split함수, 특정 separator기준으로 문자열을 분리하여 list로 리턴\n",
    "b = a.split(',')\n",
    "print(b)"
   ]
  },
  {
   "cell_type": "markdown",
   "id": "a118e33a-59a8-4f11-b053-46f17f182d60",
   "metadata": {},
   "source": [
    "### useful function"
   ]
  },
  {
   "cell_type": "code",
   "execution_count": 11,
   "id": "a3a9fbc8-9999-47fc-9686-efd70db1e962",
   "metadata": {},
   "outputs": [
    {
     "name": "stdout",
     "output_type": "stream",
     "text": [
      "<class 'list'> <class 'tuple'> <class 'dict'> <class 'str'> <class 'list'>\n",
      "5 5 2 12 3\n"
     ]
    }
   ],
   "source": [
    "#type(), len(), size()\n",
    "a = [10,20,30,40,50]\n",
    "b = (10,20,30,40,50)\n",
    "c = {\"kim\":90, \"lee\":80}\n",
    "d = 'Seoul, Korea'\n",
    "e = [ [100, 200], [300, 400], [500,600]]\n",
    "print(type(a),type(b),type(c),type(d),type(e))\n",
    "print(len(a),len(b),len(c),len(d),len(e))  #len은 요소의 개수, size는 모든요소 개수"
   ]
  },
  {
   "cell_type": "code",
   "execution_count": 13,
   "id": "e413f655-170e-46ee-bd6c-3a14c972c527",
   "metadata": {},
   "outputs": [
    {
     "name": "stdout",
     "output_type": "stream",
     "text": [
      "['H', 'e', 'l', 'l', 'o'] ['kim', 'lee'] [90, 80] [('kim', 90), ('lee', 80)]\n"
     ]
    },
    {
     "data": {
      "text/plain": [
       "3"
      ]
     },
     "execution_count": 13,
     "metadata": {},
     "output_type": "execute_result"
    }
   ],
   "source": [
    "#list(),str(),int()\n",
    "a= 'Hello'\n",
    "b = {\"kim\":90, \"lee\":80} \n",
    "#list()는 입력데이터를 리스트로 리턴\n",
    "print(list(a), list(b.keys()), list(b.values()), list(b.items()))\n",
    "#str()은 입력데이터를 문자열로 변환\n",
    "str(3.14)\n",
    "str([1,2,3])\n",
    "#int()는 문자열로된 숫자나 소숫점숫자를 정수러 리턴\n",
    "int('100')\n",
    "int(3.14)"
   ]
  }
 ],
 "metadata": {
  "kernelspec": {
   "display_name": "Python 3 (ipykernel)",
   "language": "python",
   "name": "python3"
  },
  "language_info": {
   "codemirror_mode": {
    "name": "ipython",
    "version": 3
   },
   "file_extension": ".py",
   "mimetype": "text/x-python",
   "name": "python",
   "nbconvert_exporter": "python",
   "pygments_lexer": "ipython3",
   "version": "3.8.5"
  }
 },
 "nbformat": 4,
 "nbformat_minor": 5
}
