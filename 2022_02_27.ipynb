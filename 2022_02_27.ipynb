{
 "cells": [
  {
   "cell_type": "markdown",
   "id": "dc42e672-2f9c-41ac-bced-08dc0a2198cb",
   "metadata": {},
   "source": [
    "### 딥러닝 지도학습, 비지도학습"
   ]
  },
  {
   "cell_type": "code",
   "execution_count": 3,
   "id": "893d15ab-c3f1-48a3-884e-d343f2503a4e",
   "metadata": {},
   "outputs": [],
   "source": [
    "# 머신러닝은 데이터를 이용하여 데이터 특성과 패턴을 학습하여 미지의 데이터에 대한 미래의 결과를 얻어냄\n",
    "# 머신러닝은 지도학습, 비지도학습으로 나뉨\n",
    "# 지도학습은 회귀regression, 분류classification 로 나뉘고 입력데이터, 정답데이터를 주어줌\n",
    "# 비지도학습은 정답데이터 안줌 입력데이터만으로 군집화를 함\n",
    "# 여기선 지도학습을 주로 다룰거임\n",
    "# 공부시간(x), 시험성적(t) (9,74) (14, 81) 이런 트레이닝 데이터를 이용해서\n",
    "# 트레이닝 데이터에는 없는 43시간을 공부했을때 시험성적을 예측할수 있다.\n",
    "# 미지의 데이터에 대해 미래값을 예측하는것이 지도학습"
   ]
  },
  {
   "cell_type": "markdown",
   "id": "d34bfaf8-c741-46a6-9e36-a075aacfdc04",
   "metadata": {},
   "source": [
    "#### regression, classification"
   ]
  },
  {
   "cell_type": "code",
   "execution_count": 5,
   "id": "d546f7e4-941d-4b9f-99e7-4b27f3af6fad",
   "metadata": {},
   "outputs": [],
   "source": [
    "# 회귀는 트레이닝 데이터를 이용하여 연속적인 숫자값을 예측하는것을 말함 \n",
    "# 집평수 가격, 공부시간과 시험성적 점수 예측\n",
    "# 분류는 트레이닝 데이터를 이용하여 주어진 입력값이 어떤 종류의 값인지 구별하는 것을 지칭함\n",
    "# 집 평수 20 가격 Low, 공부시간 9 시험성적 Fail 공부 43시간이면 Pass/Faill/notBad 예측\n",
    "# 연어와 광어를 나누는 선"
   ]
  },
  {
   "cell_type": "code",
   "execution_count": 6,
   "id": "c0517f91-d157-4a6a-8fdd-3252144492e6",
   "metadata": {},
   "outputs": [],
   "source": [
    "# 자캐생성기의 종류는 regression이다"
   ]
  },
  {
   "cell_type": "markdown",
   "id": "58153efa-00c5-410a-80db-04339def2d16",
   "metadata": {},
   "source": [
    "#### 비지도학습 unsupervised learning"
   ]
  },
  {
   "cell_type": "code",
   "execution_count": null,
   "id": "271e0290-0bcc-4091-8576-a8eec223c8f0",
   "metadata": {},
   "outputs": [],
   "source": [
    "# 정답은 없고 입력데이터만 있으므로 정답찾는게 아닌 입력데이터의 패턴, 특성을 학습을 통해 발견함\n",
    "# 입력데이터의 특성만으로 묶음 알고리즘을 이용한 뉴스 그룹핑, 백화점의 상품 추천시스템"
   ]
  }
 ],
 "metadata": {
  "kernelspec": {
   "display_name": "Python 3 (ipykernel)",
   "language": "python",
   "name": "python3"
  },
  "language_info": {
   "codemirror_mode": {
    "name": "ipython",
    "version": 3
   },
   "file_extension": ".py",
   "mimetype": "text/x-python",
   "name": "python",
   "nbconvert_exporter": "python",
   "pygments_lexer": "ipython3",
   "version": "3.8.5"
  }
 },
 "nbformat": 4,
 "nbformat_minor": 5
}
