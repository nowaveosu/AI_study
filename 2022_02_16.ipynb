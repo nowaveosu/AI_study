{
 "cells": [
  {
   "cell_type": "markdown",
   "id": "2890c400-469a-41e5-8088-350a38e72c32",
   "metadata": {},
   "source": [
    "## python data type"
   ]
  },
  {
   "cell_type": "markdown",
   "id": "66a04eb9-3f62-44f9-bc56-4dfa9951d0f3",
   "metadata": {},
   "source": [
    "### 1. List"
   ]
  },
  {
   "cell_type": "code",
   "execution_count": 7,
   "id": "10cf8920-6e4e-4cb9-9805-a41b56e580e6",
   "metadata": {},
   "outputs": [
    {
     "name": "stdout",
     "output_type": "stream",
     "text": [
      "10\n"
     ]
    }
   ],
   "source": [
    "a = [10,20,30,40,50]"
   ]
  },
  {
   "cell_type": "code",
   "execution_count": 10,
   "id": "535b8258-1154-4ad8-8d56-a501cfdfa9f3",
   "metadata": {},
   "outputs": [
    {
     "name": "stdout",
     "output_type": "stream",
     "text": [
      "[10, 20, 30, 40, 50]\n",
      "10\n",
      "50\n"
     ]
    }
   ],
   "source": [
    "print(a) #마이너스 인덱싱 가능\n",
    "print(a[0])\n",
    "print(a[-1])"
   ]
  },
  {
   "cell_type": "code",
   "execution_count": 12,
   "id": "89779feb-4071-4b07-8741-7081308806cc",
   "metadata": {},
   "outputs": [],
   "source": [
    "b = [10,20,\"hello\",[True,3.14]] #인덱스 3이 리스트임"
   ]
  },
  {
   "cell_type": "code",
   "execution_count": 17,
   "id": "c498e64f-3313-4b2f-854f-8beb1c71f967",
   "metadata": {},
   "outputs": [
    {
     "name": "stdout",
     "output_type": "stream",
     "text": [
      "hello\n",
      "[True, 3.14]\n",
      "[True, 3.14]\n",
      "True\n",
      "3.14\n"
     ]
    }
   ],
   "source": [
    "print(b[2])\n",
    "print(b[3])\n",
    "print(b[-1])\n",
    "print(b[3][0])\n",
    "print(b[3][1])"
   ]
  },
  {
   "cell_type": "code",
   "execution_count": 23,
   "id": "977b39e7-8f28-4262-8cd7-0ac6f08cd2ac",
   "metadata": {},
   "outputs": [
    {
     "name": "stdout",
     "output_type": "stream",
     "text": [
      "[10, 20, 'hello', [True, 3.14], 100, 100, 100]\n"
     ]
    }
   ],
   "source": [
    "#원소추가\n",
    "b.append(100)\n",
    "print(b)"
   ]
  },
  {
   "cell_type": "code",
   "execution_count": 24,
   "id": "e6ef9855-88ff-4484-a057-17f92f2f1af0",
   "metadata": {},
   "outputs": [
    {
     "name": "stdout",
     "output_type": "stream",
     "text": [
      "[10, 20]\n",
      "[30, 40, 50]\n",
      "[10, 20, 30]\n",
      "[10, 20, 30, 40, 50]\n"
     ]
    }
   ],
   "source": [
    "#슬라이싱은 :을 사용한 여러개 범위지정\n",
    "a = [10,20,30,40,50]\n",
    "print(a[0:2])\n",
    "print(a[2:]) # 2부터 끝까지\n",
    "print(a[:3]) # 인덱스 처음부터 3-1=2 2까지\n",
    "print(a[:]) # 전부"
   ]
  },
  {
   "cell_type": "code",
   "execution_count": null,
   "id": "dbe8982a-810d-4ba1-baf8-5910e76c05f9",
   "metadata": {},
   "outputs": [],
   "source": []
  }
 ],
 "metadata": {
  "kernelspec": {
   "display_name": "Python 3 (ipykernel)",
   "language": "python",
   "name": "python3"
  },
  "language_info": {
   "codemirror_mode": {
    "name": "ipython",
    "version": 3
   },
   "file_extension": ".py",
   "mimetype": "text/x-python",
   "name": "python",
   "nbconvert_exporter": "python",
   "pygments_lexer": "ipython3",
   "version": "3.8.5"
  }
 },
 "nbformat": 4,
 "nbformat_minor": 5
}
