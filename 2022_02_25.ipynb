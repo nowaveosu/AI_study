{
 "cells": [
  {
   "cell_type": "markdown",
   "id": "a54c0b3e-a772-4388-bfc6-b1b266da27ad",
   "metadata": {},
   "source": [
    "### 입력변수가 x하나일때 수치미분"
   ]
  },
  {
   "cell_type": "code",
   "execution_count": 1,
   "id": "fa3f61b4-8275-4864-909c-884811738924",
   "metadata": {},
   "outputs": [],
   "source": [
    "def numerical_derivative(f, x): #f는 함수, x는 입력값\n",
    "    delta_x = 1e-4 #10^-4승의 lim에 해당되는 작은 값\n",
    "    return (f(x+delta_x) - f(x-delta_x)) / (2*delta_x) # 수치미분 구현"
   ]
  },
  {
   "cell_type": "code",
   "execution_count": 5,
   "id": "beac5b54-2483-48bc-b5a9-debaf8a1dd75",
   "metadata": {},
   "outputs": [
    {
     "name": "stdout",
     "output_type": "stream",
     "text": [
      "result == 6.000000000012662\n"
     ]
    }
   ],
   "source": [
    "#f(x)=x^2 에서 f'(3)구하기\n",
    "def my_func1(x):\n",
    "    return x**2\n",
    "\n",
    "result = numerical_derivative(my_func1, 3)\n",
    "print(\"result ==\", result)\n",
    "#result는 x가 3에서 아주 미세하게 변할때 함수f는 6만큼 변한다는 뜻"
   ]
  },
  {
   "cell_type": "code",
   "execution_count": 8,
   "id": "b58902e3-2d01-4690-8e34-1a01acf622c7",
   "metadata": {},
   "outputs": [
    {
     "name": "stdout",
     "output_type": "stream",
     "text": [
      "result == 66.50150507518049\n",
      "66.50150489037586\n"
     ]
    }
   ],
   "source": [
    "#f(x) = 3xe^x 에서 f'(2)구하기\n",
    "import numpy as np\n",
    "\n",
    "def my_func2(x):\n",
    "    return 3*x*(np.exp(x))\n",
    "\n",
    "result = numerical_derivative(my_func2, 2)\n",
    "print(\"result ==\", result)\n",
    "print(3*np.exp(2) + 3*2*np.exp(2)) #수학적으로 검증해도 같다"
   ]
  },
  {
   "cell_type": "code",
   "execution_count": 9,
   "id": "90f4247b-e16b-412b-8c11-7a534a12b8fa",
   "metadata": {},
   "outputs": [],
   "source": [
    "#입력변수 여러개인 다변수함수의 수치미분\n",
    "# f(x,y) = 2x + 3xy + y^3 이면 x편미분, y편미분 모두 수행해야함\n",
    "# f'(1.0,2.0)이면 x편미분에서는 y에 2대입해서 x편미분, y편미분에서는 x에 1대입하고 y편미분\n",
    "# 그럼 x편미분하기전 2x + 6x + 8 을 x에 대해 미분하고 x 대입 => 8\n",
    "# 2+3y+y^3을 y에 대해 미분하고 2대입 > 15"
   ]
  },
  {
   "cell_type": "code",
   "execution_count": 11,
   "id": "a14697e5-04d2-447c-85f0-55aaaac64d41",
   "metadata": {},
   "outputs": [],
   "source": [
    "#수치미분 최종\n",
    "import numpy as np\n",
    "\n",
    "def numerical_derivative(f, x): #f는 다변수함수, x는 하나이상의 입력변수 모두 ex(x,y)\n",
    "    delta_x = 1e-4 \n",
    "    grad = np.zeros_like(x) #grad변수는 수치미분값을 저장할것임 \n",
    "    \n",
    "    it = np.nditer(x, flags = ['multi_index'], op_flags = ['readwrite'])\n",
    "    #it는 넘파이의 모든 요소를 가리키는 iterator이다\n",
    "    \n",
    "    while not it.finished: #변수개수만큼 반복\n",
    "        idx = it.multi_index\n",
    "        \n",
    "        tmp_val = x[idx]   #numpy타입은 mutable이므로 원본값 보관\n",
    "        x[idx] = float(tmp_val) + delta_x   #히나의 변수에 대한 수치미분 계산\n",
    "        fx1 = f(x)\n",
    "        \n",
    "        x[idx] = tm_val - delta_x\n",
    "        fx2 = f(x)\n",
    "        grad[idx] = (fx1-fx2) / (2*delta_x) #미분결과값 grad에 저장\n",
    "        \n",
    "        x[idx] = tmp_val  #x에 원본값 전달\n",
    "        it.iternext()\n",
    "        \n",
    "    return grad"
   ]
  }
 ],
 "metadata": {
  "kernelspec": {
   "display_name": "Python 3 (ipykernel)",
   "language": "python",
   "name": "python3"
  },
  "language_info": {
   "codemirror_mode": {
    "name": "ipython",
    "version": 3
   },
   "file_extension": ".py",
   "mimetype": "text/x-python",
   "name": "python",
   "nbconvert_exporter": "python",
   "pygments_lexer": "ipython3",
   "version": "3.8.5"
  }
 },
 "nbformat": 4,
 "nbformat_minor": 5
}
