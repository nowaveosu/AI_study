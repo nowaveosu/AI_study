{
 "cells": [
  {
   "cell_type": "markdown",
   "id": "8c4b0270-660d-4c82-82fb-a05149f72bfd",
   "metadata": {},
   "source": [
    "### 조건문, 반복문"
   ]
  },
  {
   "cell_type": "markdown",
   "id": "dbbc860c-9104-4dfd-ad69-7d732a625219",
   "metadata": {},
   "source": [
    "#### if"
   ]
  },
  {
   "cell_type": "code",
   "execution_count": 2,
   "id": "d8126ffb-c9d1-4a2c-8818-ef231fb18c0f",
   "metadata": {},
   "outputs": [
    {
     "name": "stdout",
     "output_type": "stream",
     "text": [
      "a == 1\n",
      "positive number\n"
     ]
    }
   ],
   "source": [
    "# if 첫번째방법\n",
    "a = 1\n",
    "if a>0:\n",
    "    print(\"a ==\", a)\n",
    "    print(\"positive number\")\n",
    "elif a == 0:\n",
    "    print(\"a==\", a)\n",
    "    print(\"zero\")\n",
    "else:\n",
    "    print(\"a==\", a)\n",
    "    print(\"negative number\")"
   ]
  },
  {
   "cell_type": "code",
   "execution_count": 3,
   "id": "4956cf36-392b-445a-872d-f2bd7a2dc14a",
   "metadata": {},
   "outputs": [
    {
     "name": "stdout",
     "output_type": "stream",
     "text": [
      "45 is not in list_data\n"
     ]
    }
   ],
   "source": [
    "#if 두번째 방법 (in을 사용)\n",
    "list_data = [10,20,30,40,50]\n",
    "dict_data = {'key1':1,'key2':2}\n",
    "\n",
    "if 45 in list_data:\n",
    "    print(\"45 is in list_data\")\n",
    "else:\n",
    "    print(\"45 is not in list_data\")\n",
    "    \n",
    "if 'key1' in dict_data:\n",
    "    print(\"key1 is in dict_data\")\n",
    "else:\n",
    "    print(\"key is not in dict_data\")"
   ]
  },
  {
   "cell_type": "markdown",
   "id": "4c370760-1e5c-4594-a4cc-0fb8d37a56cf",
   "metadata": {},
   "source": [
    "#### for"
   ]
  },
  {
   "cell_type": "code",
   "execution_count": 9,
   "id": "172f7a87-3667-4e17-901f-1c116a15d636",
   "metadata": {},
   "outputs": [
    {
     "name": "stdout",
     "output_type": "stream",
     "text": [
      "0  1  2  3  4  5  6  7  8  9  \n",
      "\n",
      "0 1 2 3 4 5 6 7 8 9 \n",
      "\n",
      "0  2  4  6  8  "
     ]
    }
   ],
   "source": [
    "#for 1번째방법(in range)\n",
    "for data in range(10):      #0부터 9까지\n",
    "    print(data,\" \",end='') #end=''는 엔터치지발고 넘어가란거\n",
    "print('\\n')\n",
    "for data in range(0, 10):  #보통 이렇게 사용\n",
    "    print(data,\"\",end='')\n",
    "print('\\n')\n",
    "for data in range(0,10,2): # 0부터 10까지 2씩 증가\n",
    "    print(data,\" \", end='')"
   ]
  },
  {
   "cell_type": "code",
   "execution_count": 1,
   "id": "23170256-3797-4afe-a776-1ef7265a82c9",
   "metadata": {},
   "outputs": [
    {
     "name": "stdout",
     "output_type": "stream",
     "text": [
      "10  20  30  40  50  "
     ]
    }
   ],
   "source": [
    "#for 2번째 방법(in list, in dict)\n",
    "list_data = [10,20,30,40,50]\n",
    "for data in list_data:\n",
    "    print(data,\" \", end='')"
   ]
  },
  {
   "cell_type": "code",
   "execution_count": 2,
   "id": "03a7db91-6fb7-4cd2-af00-06f721c74d23",
   "metadata": {},
   "outputs": [
    {
     "name": "stdout",
     "output_type": "stream",
     "text": [
      "key1  key2  "
     ]
    }
   ],
   "source": [
    "dict_data = {'key1':1, 'key2':2}\n",
    "\n",
    "for data in dict_data:\n",
    "    print(data, \" \", end='')"
   ]
  },
  {
   "cell_type": "code",
   "execution_count": 3,
   "id": "a769b052-93a2-40ed-8ffd-38d6e1fa4757",
   "metadata": {},
   "outputs": [
    {
     "name": "stdout",
     "output_type": "stream",
     "text": [
      "key1   1\n",
      "key2   2\n"
     ]
    }
   ],
   "source": [
    "for key, value in dict_data.items(): #key, value 다 쓰고싶을때\n",
    "    print(key, \" \", value)"
   ]
  },
  {
   "cell_type": "markdown",
   "id": "37316a32-d5c0-4ef6-b945-c100920d28dd",
   "metadata": {},
   "source": [
    "#### for문 중 list comprehension"
   ]
  },
  {
   "cell_type": "code",
   "execution_count": 3,
   "id": "6b887278-2118-4c59-b1a4-9be68dfba431",
   "metadata": {},
   "outputs": [
    {
     "name": "stdout",
     "output_type": "stream",
     "text": [
      "[0, 1, 4, 9, 16]\n"
     ]
    }
   ],
   "source": [
    "#괄호안에 for루프 사용해서 요소를 정의함\n",
    "list_data = [x**2 for x in range(5)] #뒤부터봐야함 5개\n",
    "print(list_data)"
   ]
  },
  {
   "cell_type": "code",
   "execution_count": 6,
   "id": "94226a16-08b7-41c9-bfe4-4c5472822b9c",
   "metadata": {},
   "outputs": [
    {
     "name": "stdout",
     "output_type": "stream",
     "text": [
      "all data == [[1, 10], [2, 15], [3, 30], [4, 55]]\n",
      "x_data == [1, 2, 3, 4]\n",
      "y_data == [10, 15, 30, 55]\n"
     ]
    }
   ],
   "source": [
    "raw_data = [ [1,10], [2,15], [3,30], [4,55] ]\n",
    "\n",
    "all_data = [x for x in raw_data]\n",
    "x_data = [ x[0] for x in raw_data ] #list의 인덱스를 사용\n",
    "y_data = [ x[1] for x in raw_data] #raw_data에서 가져온 x의 두번째 인덱스만 가져와\n",
    "\n",
    "print(\"all data ==\", all_data)\n",
    "print(\"x_data ==\", x_data)\n",
    "print(\"y_data ==\", y_data)    #이렇게 나누는걸 머신러닝에서 주로씀"
   ]
  },
  {
   "cell_type": "code",
   "execution_count": 10,
   "id": "583c3cca-b444-4c67-9254-749534853f41",
   "metadata": {},
   "outputs": [
    {
     "name": "stdout",
     "output_type": "stream",
     "text": [
      "[0, 2, 4, 6, 8]\n"
     ]
    }
   ],
   "source": [
    "#문제 짝수출력코드를 list comprehension으로 구현하시오\n",
    "even_number = [ x*2 for x in range(5)]\n",
    "print(even_number)"
   ]
  },
  {
   "cell_type": "markdown",
   "id": "eafd3854-5cd0-4fec-8162-397750e773a1",
   "metadata": {},
   "source": [
    "#### while문 (while, break, continue)"
   ]
  },
  {
   "cell_type": "code",
   "execution_count": 12,
   "id": "602f9450-b3e7-41bf-abd4-d67ccd0f933a",
   "metadata": {},
   "outputs": [
    {
     "name": "stdout",
     "output_type": "stream",
     "text": [
      "data == 5\n",
      "data == 4\n",
      "data == 3\n",
      "data == 2\n",
      "data == 1\n",
      "data == 0\n"
     ]
    }
   ],
   "source": [
    "data = 5\n",
    "while data >= 0:\n",
    "    print(\"data ==\", data)\n",
    "    data -= 1"
   ]
  },
  {
   "cell_type": "code",
   "execution_count": 16,
   "id": "24369c2c-27fa-40bb-8826-a5d3dfa86917",
   "metadata": {},
   "outputs": [
    {
     "name": "stdout",
     "output_type": "stream",
     "text": [
      "data == 5\n",
      "continue here\n",
      "data == 4\n",
      "continue here\n",
      "data == 3\n",
      "break here\n"
     ]
    }
   ],
   "source": [
    "#break, continue\n",
    "data = 5\n",
    "while data >= 0:\n",
    "    print(\"data ==\", data)\n",
    "    data -= 1\n",
    "    \n",
    "    if data == 2:\n",
    "        print(\"break here\") #2가 되면 while문을 벗어난다\n",
    "        break\n",
    "    else:\n",
    "        print(\"continue here\") #반복문은 계속진행하되 밑은 무시\n",
    "        continue\n",
    "        print(\"continue밑은 안나옴\")"
   ]
  }
 ],
 "metadata": {
  "kernelspec": {
   "display_name": "Python 3 (ipykernel)",
   "language": "python",
   "name": "python3"
  },
  "language_info": {
   "codemirror_mode": {
    "name": "ipython",
    "version": 3
   },
   "file_extension": ".py",
   "mimetype": "text/x-python",
   "name": "python",
   "nbconvert_exporter": "python",
   "pygments_lexer": "ipython3",
   "version": "3.8.5"
  }
 },
 "nbformat": 4,
 "nbformat_minor": 5
}
