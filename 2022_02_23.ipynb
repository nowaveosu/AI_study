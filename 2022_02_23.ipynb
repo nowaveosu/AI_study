{
 "cells": [
  {
   "cell_type": "markdown",
   "id": "aa70e08a-0239-424f-a9bf-d4f0e351d786",
   "metadata": {},
   "source": [
    "#### numpy 라이브러리 마지막 (3)"
   ]
  },
  {
   "cell_type": "markdown",
   "id": "e75a483a-8d56-408f-a97c-c678768bcf7f",
   "metadata": {},
   "source": [
    "#### concatenate"
   ]
  },
  {
   "cell_type": "code",
   "execution_count": 8,
   "id": "85ff8a53-60cc-4e34-a134-4f098c8aee2b",
   "metadata": {},
   "outputs": [
    {
     "name": "stdout",
     "output_type": "stream",
     "text": [
      "(2, 3)\n",
      "[[10 20 30]\n",
      " [40 50 60]\n",
      " [70 80 90]]\n",
      "[[  10   20   30 1000]\n",
      " [  40   50   60 2000]]\n"
     ]
    }
   ],
   "source": [
    "import numpy as np\n",
    "#행렬에 새로운 행, 열 추가하기\n",
    "A = np.array([[10,20,30], [40,50,60]]) #행마다 적어놓은거임\n",
    "print(A.shape)\n",
    "#A행렬에 추가할 행렬, 1행 3열로 reshape\n",
    "#벡터는 행렬구분 없으므로 reshape하는거\n",
    "row_add = np.array([70,80,90]).reshape(1,3) \n",
    "\n",
    "#A행렬에 추가할 행렬, 2행 1열로 생성\n",
    "#가로가 아니라 세로로 길쭉한 거임 1000이 위\n",
    "column_add = np.array([1000, 2000]).reshape(2, 1)\n",
    "\n",
    "#numpy.concatenate 에서 axis = 0행(row)기준\n",
    "#A행렬에 row_add 행렬 추가\n",
    "B = np.concatenate((A, row_add), axis = 0)\n",
    "print(B)\n",
    "#numpy.concatenate 에서 axis = 1 열(row)기준\n",
    "#A행렬에 column_add 행렬 추가\n",
    "C = np.concatenate((A, column_add), axis = 1)\n",
    "print(C)\n",
    "#요약, 넣을 행렬을 reshape하고 axis = 0 or 1 해서 넣자"
   ]
  },
  {
   "cell_type": "markdown",
   "id": "8b85db99-d57c-4c39-8603-a29b369357ee",
   "metadata": {},
   "source": [
    "#### loadtxt"
   ]
  },
  {
   "cell_type": "code",
   "execution_count": 15,
   "id": "47565e62-1781-4735-9698-c4b035b01165",
   "metadata": {},
   "outputs": [
    {
     "name": "stdout",
     "output_type": "stream",
     "text": [
      "x_data.ndim =  2 , x_data.shape =  (25, 3)\n",
      "t_data.ndim =  2 , t_data.shape =  (25, 3)\n"
     ]
    }
   ],
   "source": [
    "loaded_data = np.loadtxt('./data/data-01.csv', delimiter=',', dtype = np.float32) #25*4인 행렬데이터로부터\n",
    "x_data = loaded_data[:, 0:-1] #x는 모든 행 데이터와 1열에서 3열까지 (0열은 없다 1부터시작) 데이터를 가져옴\n",
    "t_data = loaded_data[:, 0:-1] #t는 모든 행 데이터와 -1 즉 마지막 4열의 데이터만 가져옴\n",
    "\n",
    "#데이터 차원 및 shape 확인\n",
    "#머신러닝에서 입력데이터, 정답데이터를 분리하는 프로그래밍 기법\n",
    "print(\"x_data.ndim = \", x_data.ndim, \", x_data.shape = \", x_data.shape)\n",
    "print(\"t_data.ndim = \", t_data.ndim, \", t_data.shape = \", t_data.shape)\n"
   ]
  },
  {
   "cell_type": "markdown",
   "id": "54711181-45b7-4940-994b-2a255f93422f",
   "metadata": {},
   "source": [
    "#### rand, sum, exp, log 함수"
   ]
  },
  {
   "cell_type": "code",
   "execution_count": 23,
   "id": "f331bcb8-c242-4a28-a6ee-ddf92be75cc7",
   "metadata": {},
   "outputs": [
    {
     "name": "stdout",
     "output_type": "stream",
     "text": [
      "random_number1 == [0.29839258 0.13018515 0.42671112] random_number1.shape == (3,)\n",
      "random_number2 == [[0.25537072 0.86768532 0.27585508]] random_number2.shape == (1, 3)\n",
      "random_number3 == [[0.86946188]\n",
      " [0.70523271]\n",
      " [0.67613544]] random_number3.shape == (3, 1)\n"
     ]
    }
   ],
   "source": [
    "#0~1사이의 random한 수 발생\n",
    "#바이어스나 가중치 설정할때 사용\n",
    "random_number1 = np.random.rand(3)\n",
    "random_number2 = np.random.rand(1,3)\n",
    "random_number3 = np.random.rand(3,1)\n",
    "print(\"random_number1 ==\", random_number1, \"random_number1.shape ==\",random_number1.shape)\n",
    "print(\"random_number2 ==\", random_number2, \"random_number2.shape ==\",random_number2.shape)\n",
    "print(\"random_number3 ==\", random_number3, \"random_number3.shape ==\",random_number3.shape)"
   ]
  },
  {
   "cell_type": "code",
   "execution_count": 22,
   "id": "4f431b00-e1eb-462a-8796-6806e5f12b5e",
   "metadata": {},
   "outputs": [
    {
     "name": "stdout",
     "output_type": "stream",
     "text": [
      "np.sum(X) == 20\n",
      "np.exp(X) == [   7.3890561    54.59815003  403.42879349 2980.95798704]\n",
      "np.log(X) == [0.69314718 1.38629436 1.79175947 2.07944154]\n"
     ]
    }
   ],
   "source": [
    "X = np.array([2,4,6,8])\n",
    "print(\"np.sum(X) ==\", np.sum(X))\n",
    "print(\"np.exp(X) ==\", np.exp(X))\n",
    "print(\"np.log(X) ==\", np.log(X))"
   ]
  },
  {
   "cell_type": "markdown",
   "id": "5383507d-a4f6-4c27-aaf9-df6dbe5b9ec4",
   "metadata": {},
   "source": [
    "#### max, min, argmax, argmin (최대최소,최ㅇ값이 있는 인덱스를 리턴)"
   ]
  },
  {
   "cell_type": "code",
   "execution_count": 26,
   "id": "089737f1-4a04-468f-b7fa-2a054e2d54eb",
   "metadata": {},
   "outputs": [
    {
     "name": "stdout",
     "output_type": "stream",
     "text": [
      "np.log(X) == 8\n",
      "np.min(X) == 2\n",
      "np.argmax(X) == 3\n",
      "np.argmin(X) == 0\n"
     ]
    }
   ],
   "source": [
    "print(\"np.max(X) ==\", np.max(X))\n",
    "print(\"np.min(X) ==\", np.min(X))\n",
    "print(\"np.argmax(X) ==\", np.argmax(X))\n",
    "print(\"np.argmin(X) ==\", np.argmin(X))"
   ]
  },
  {
   "cell_type": "code",
   "execution_count": 28,
   "id": "f1fc81d9-6b0d-4008-a620-fcbd7ff2a079",
   "metadata": {},
   "outputs": [
    {
     "name": "stdout",
     "output_type": "stream",
     "text": [
      "np.max(X) == [2 5 8]\n",
      "np.min(X) == [2 1 0]\n",
      "np.argmax(X) == [0 2 2]\n",
      "np.argmin(X) == [0 0 0]\n"
     ]
    }
   ],
   "source": [
    "# 행렬에서도 적용가능, 행기준 axis=0, 열기준 axis=1인지 정해줄것\n",
    "X = np.array([ [2,4,6], [1,2,3], [0,5,8] ])\n",
    "print(\"np.max(X) ==\", np.max(X, axis=0)) #axis=0 열기준 최대만모음\n",
    "print(\"np.min(X) ==\", np.min(X, axis=1)) #axis=0 행기준\n",
    "print(\"np.argmax(X) ==\", np.argmax(X, axis=0)) #axis=0 열기준 2가있는 0, 5가있는 2, 8이있는 2\n",
    "print(\"np.argmin(X) ==\", np.argmin(X, axis=1)) #axis=0 행기준"
   ]
  },
  {
   "cell_type": "markdown",
   "id": "5d7d5ae1-9f74-4509-a7f9-75c77d61c55c",
   "metadata": {},
   "source": [
    "#### ones, zeros"
   ]
  },
  {
   "cell_type": "code",
   "execution_count": 31,
   "id": "a4220e19-55d0-4f72-b475-1e4569af2461",
   "metadata": {},
   "outputs": [
    {
     "name": "stdout",
     "output_type": "stream",
     "text": [
      "A.shape == (3, 3) , A == [[1. 1. 1.]\n",
      " [1. 1. 1.]\n",
      " [1. 1. 1.]]\n",
      "B.shape == (3, 2) , B == [[0. 0.]\n",
      " [0. 0.]\n",
      " [0. 0.]]\n"
     ]
    }
   ],
   "source": [
    "#concatenate와 함께 쓰임\n",
    "A = np.ones([3,3])\n",
    "print(\"A.shape ==\", A.shape, \", A ==\", A)\n",
    "B = np.zeros([3,2])\n",
    "print(\"B.shape ==\", B.shape, \", B ==\", B)"
   ]
  },
  {
   "cell_type": "code",
   "execution_count": 32,
   "id": "d7e5ab06-2850-489f-83c1-3e6d0f9de39c",
   "metadata": {},
   "outputs": [],
   "source": [
    "#### numpy끝"
   ]
  },
  {
   "cell_type": "code",
   "execution_count": 33,
   "id": "2eeb5576-6e54-479a-ae59-37ca45d1d852",
   "metadata": {},
   "outputs": [],
   "source": [
    "#### 추가로 matplotlib의 scattor plot과 line plot으로 그림그린다"
   ]
  },
  {
   "cell_type": "code",
   "execution_count": 37,
   "id": "cbda7182-a147-4992-8cdc-9ad563ad2994",
   "metadata": {},
   "outputs": [
    {
     "data": {
      "image/png": "[encoded data removed]",
      "text/plain": [
       "<Figure size 432x288 with 1 Axes>"
      ]
     },
     "metadata": {
      "needs_background": "light"
     },
     "output_type": "display_data"
    }
   ],
   "source": [
    "import matplotlib.pyplot as plt\n",
    "import numpy as np\n",
    "\n",
    "#x data, y data 생성\n",
    "x_data = np.random.rand(100)\n",
    "y_data = np.random.rand(100)\n",
    "\n",
    "plt.title('scatter plot')\n",
    "plt.grid()\n",
    "plt.scatter(x_data, y_data, color='b', marker='o') #x,y,색깔,표현법 설정\n",
    "plt.show() #show매서드로 호출"
   ]
  },
  {
   "cell_type": "code",
   "execution_count": 44,
   "id": "49a52d19-71de-453d-ba0a-60175edeae24",
   "metadata": {},
   "outputs": [
    {
     "data": {
      "image/png": "[encoded data removed]",
      "text/plain": [
       "<Figure size 432x288 with 1 Axes>"
      ]
     },
     "metadata": {
      "needs_background": "light"
     },
     "output_type": "display_data"
    }
   ],
   "source": [
    "x_data = [x for x in range(-5,5)] #list comprehension으로 범위설정한 모습\n",
    "y_data = [y*y for y in range(-5,5)] #rand도 쓸수있단걸 알아두라\n",
    "\n",
    "plt.title('line plot')\n",
    "plt.grid()\n",
    "plt.plot(x_data, y_data, color='b') #x,y범위색깔 설정\n",
    "plt.show() #show매서드로 호출"
   ]
  },
  {
   "cell_type": "code",
   "execution_count": 43,
   "id": "e7700259-cee4-4bdb-8ba7-e2f81c78a62b",
   "metadata": {},
   "outputs": [
    {
     "data": {
      "image/png": "[encoded data removed]",
      "text/plain": [
       "<Figure size 432x288 with 1 Axes>"
      ]
     },
     "metadata": {
      "needs_background": "light"
     },
     "output_type": "display_data"
    }
   ],
   "source": [
    "x_data = [-3, -2, -1, 0, 1, 2, 3, 4, 5, 6, 7, 8, 9]\n",
    "y_data = [-7, -13, -0, 4, 5, 7, 8, 0, 4, 5, 7, 9, 12]\n",
    "\n",
    "plt.title('line plot')\n",
    "plt.grid()\n",
    "plt.plot(x_data, y_data, color='b') #x,y범위색깔 설정\n",
    "plt.show() #show매서드로 호출"
   ]
  }
 ],
 "metadata": {
  "kernelspec": {
   "display_name": "Python 3 (ipykernel)",
   "language": "python",
   "name": "python3"
  },
  "language_info": {
   "codemirror_mode": {
    "name": "ipython",
    "version": 3
   },
   "file_extension": ".py",
   "mimetype": "text/x-python",
   "name": "python",
   "nbconvert_exporter": "python",
   "pygments_lexer": "ipython3",
   "version": "3.8.5"
  }
 },
 "nbformat": 4,
 "nbformat_minor": 5
}
