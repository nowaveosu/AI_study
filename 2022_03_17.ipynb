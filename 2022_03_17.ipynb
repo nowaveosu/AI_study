{
 "cells": [
  {
   "cell_type": "markdown",
   "id": "8ed0be77-4de9-44df-b05f-0eb374a61e11",
   "metadata": {},
   "source": [
    "### 딥러닝 (3)"
   ]
  },
  {
   "cell_type": "code",
   "execution_count": 2,
   "id": "3cf3a8b2-d12f-4ce8-85f3-0c84611ed7a8",
   "metadata": {},
   "outputs": [],
   "source": [
    "# nand or and조합없이 딥러닝으로 xor문제를 해결해보자"
   ]
  },
  {
   "cell_type": "code",
   "execution_count": 3,
   "id": "350b9c27-fc9a-4909-8934-6bbea68c1efd",
   "metadata": {},
   "outputs": [],
   "source": [
    "# xor은 0110 이 나와야함, 입력층 은닉층 출력층이 있는 딥러닝으로 풀어보자"
   ]
  },
  {
   "cell_type": "code",
   "execution_count": 4,
   "id": "d9089041-3fd3-4e8b-acff-2936f04c5206",
   "metadata": {},
   "outputs": [],
   "source": [
    "# 입력층 노드는 2개 출력층노드 1개 은닉층노드는 적당히 6개로 했다.\n",
    "# 딥러닝에서는 1개이상의 은닉층을 만들수있고, 노드도 임의로 만들수있다. 많으면 속도가 느리므로 적절히 하자.\n",
    "# y의 loss가 최소가 될때까지 W,b를 업데이트함"
   ]
  },
  {
   "cell_type": "code",
   "execution_count": 5,
   "id": "4d2506fb-175d-4eba-a30d-34fc5d100220",
   "metadata": {},
   "outputs": [],
   "source": [
    "import numpy as np\n",
    "\n",
    "# 수치미분 함수\n",
    "\n",
    "def numerical_derivative(f, x):\n",
    "    delta_x = 1e-4 # 0.0001\n",
    "    grad = np.zeros_like(x)\n",
    "    \n",
    "    it = np.nditer(x, flags=['multi_index'], op_flags=['readwrite'])\n",
    "    \n",
    "    while not it.finished:\n",
    "        idx = it.multi_index        \n",
    "        tmp_val = x[idx]\n",
    "        x[idx] = float(tmp_val) + delta_x\n",
    "        fx1 = f(x) # f(x+delta_x)\n",
    "        \n",
    "        x[idx] = tmp_val - delta_x \n",
    "        fx2 = f(x) # f(x-delta_x)\n",
    "        grad[idx] = (fx1 - fx2) / (2*delta_x)\n",
    "        \n",
    "        x[idx] = tmp_val \n",
    "        it.iternext()   \n",
    "        \n",
    "    return grad\n",
    "\n",
    "# sigmoid 함수\n",
    "\n",
    "def sigmoid(x):\n",
    "    return 1 / (1+np.exp(-x))"
   ]
  },
  {
   "cell_type": "code",
   "execution_count": 6,
   "id": "588f95fc-c0a9-4bbc-af7a-e42d6ee2e621",
   "metadata": {},
   "outputs": [],
   "source": [
    "class LogicGate:\n",
    "        \n",
    "    def __init__(self, gate_name, xdata, tdata):\n",
    "        \n",
    "        self.name = gate_name\n",
    "        \n",
    "        # 입력 데이터, 정답 데이터 초기화 생성자 init\n",
    "        self.__xdata = xdata.reshape(4,2)  # 4개의 입력데이터 x1, x2 에 대하여 batch 처리 행렬\n",
    "        self.__tdata = tdata.reshape(4,1)  # 4개의 입력데이터 x1, x2 에 대한 각각의 계산 값 행렬\n",
    "        \n",
    "        # 2층 hidden layer unit : 6개 가정,  가중치 W2, 바이어스 b2 초기화\n",
    "        self.__W2 = np.random.rand(2,6)  # weight, 2 X 6 matrix\n",
    "        self.__b2 = np.random.rand(6)\n",
    "        \n",
    "        # 3층 output layer unit : 1 개 , 가중치 W3, 바이어스 b3 초기화\n",
    "        self.__W3 = np.random.rand(6,1)\n",
    "        self.__b3 = np.random.rand(1)\n",
    "                        \n",
    "        # 학습률 learning rate 초기화\n",
    "        self.__learning_rate = 1e-2\n",
    "    \n",
    "        print(self.name + \" object is created\")\n",
    "            \n",
    "    def feed_forward(self):        # feed forward 를 통하여 손실함수(cross-entropy) 값 계산\n",
    "        \n",
    "        delta = 1e-7    # log 무한대 발산 방지\n",
    "    \n",
    "        z2 = np.dot(self.__xdata, self.__W2) + self.__b2  # 은닉층의 선형회귀 값\n",
    "        a2 = sigmoid(z2)                                  # 은닉층의 출력\n",
    "        \n",
    "        z3 = np.dot(a2, self.__W3) + self.__b3            # 출력층의 선형회귀 값\n",
    "        y = a3 = sigmoid(z3)                              # 출력층의 출력\n",
    "    \n",
    "        # cross-entropy \n",
    "        return  -np.sum( self.__tdata*np.log(y + delta) + (1-self.__tdata)*np.log((1 - y)+delta ) )    \n",
    "    \n",
    "    def loss_val(self):          # 외부 출력을 위한 손실함수(cross-entropy) 값 계산 \n",
    "        \n",
    "        delta = 1e-7    # log 무한대 발산 방지\n",
    "    \n",
    "        z2 = np.dot(self.__xdata, self.__W2) + self.__b2  # 은닉층의 선형회귀 값\n",
    "        a2 = sigmoid(z2)                                  # 은닉층의 출력\n",
    "        \n",
    "        z3 = np.dot(a2, self.__W3) + self.__b3            # 출력층의 선형회귀 값\n",
    "        y = a3 = sigmoid(z3)                              # 출력층의 출력값\n",
    "    \n",
    "        # cross-entropy \n",
    "        return  -np.sum( self.__tdata*np.log(y + delta) + (1-self.__tdata)*np.log((1 - y)+delta ) )\n",
    "    \n",
    "    \n",
    "    # 수치미분을 이용하여 손실함수가 최소가 될때 까지 학습하는 함수\n",
    "    def train(self):\n",
    "        \n",
    "        f = lambda x : self.feed_forward()\n",
    "        \n",
    "        print(\"Initial loss value = \", self.loss_val())\n",
    "        \n",
    "        for step in  range(10001):\n",
    "            \n",
    "            self.__W2 -= self.__learning_rate * numerical_derivative(f, self.__W2)\n",
    "    \n",
    "            self.__b2 -= self.__learning_rate * numerical_derivative(f, self.__b2)\n",
    "        \n",
    "            self.__W3 -= self.__learning_rate * numerical_derivative(f, self.__W3)\n",
    "    \n",
    "            self.__b3 -= self.__learning_rate * numerical_derivative(f, self.__b3)\n",
    "    \n",
    "            if (step % 400 == 0):\n",
    "                print(\"step = \", step, \"  , loss value = \", self.loss_val())\n",
    "                \n",
    "    \n",
    "    # query, 즉 미래 값 예측 함수\n",
    "    def predict(self, xdata):\n",
    "        \n",
    "        z2 = np.dot(xdata, self.__W2) + self.__b2         # 은닉층의 선형회귀 값\n",
    "        a2 = sigmoid(z2)                                  # 은닉층의 출력\n",
    "        \n",
    "        z3 = np.dot(a2, self.__W3) + self.__b3            # 출력층의 선형회귀 값\n",
    "        y = a3 = sigmoid(z3)                              # 출력층의 출력\n",
    "    \n",
    "        if y > 0.5:\n",
    "            result = 1  # True\n",
    "        else:\n",
    "            result = 0  # False\n",
    "    \n",
    "        return y, result"
   ]
  },
  {
   "cell_type": "code",
   "execution_count": 7,
   "id": "fc210644-ad2c-4f99-8462-cccc7698d7ca",
   "metadata": {},
   "outputs": [
    {
     "name": "stdout",
     "output_type": "stream",
     "text": [
      "AND object is created\n",
      "Initial loss value =  10.177319382593089\n",
      "step =  0   , loss value =  9.87059461112306\n",
      "step =  400   , loss value =  2.2536487710612025\n",
      "step =  800   , loss value =  2.0784506441016712\n",
      "step =  1200   , loss value =  1.787074275246396\n",
      "step =  1600   , loss value =  1.4441642800346937\n",
      "step =  2000   , loss value =  1.1067415917379653\n",
      "step =  2400   , loss value =  0.8206177628603226\n",
      "step =  2800   , loss value =  0.6058776360203502\n",
      "step =  3200   , loss value =  0.45545975045931464\n",
      "step =  3600   , loss value =  0.3519536144288472\n",
      "step =  4000   , loss value =  0.27982243643434745\n",
      "step =  4400   , loss value =  0.22828433858146582\n",
      "step =  4800   , loss value =  0.19042165546224527\n",
      "step =  5200   , loss value =  0.16185400630239621\n",
      "step =  5600   , loss value =  0.13977256729001286\n",
      "step =  6000   , loss value =  0.12233588702821309\n",
      "step =  6400   , loss value =  0.10830627113484931\n",
      "step =  6800   , loss value =  0.09683099471849525\n",
      "step =  7200   , loss value =  0.08730867837664805\n",
      "step =  7600   , loss value =  0.0793059631578863\n",
      "step =  8000   , loss value =  0.07250436388543828\n",
      "step =  8400   , loss value =  0.06666559897869168\n",
      "step =  8800   , loss value =  0.06160847963687555\n",
      "step =  9200   , loss value =  0.05719318822262111\n",
      "step =  9600   , loss value =  0.053310379048736506\n",
      "step =  10000   , loss value =  0.04987348875067275\n"
     ]
    }
   ],
   "source": [
    "# AND Gate 객체 생성 및 training\n",
    "\n",
    "xdata = np.array([ [0, 0], [0, 1], [1, 0], [1, 1] ])\n",
    "tdata = np.array([0, 0, 0, 1])\n",
    "\n",
    "and_obj = LogicGate(\"AND\", xdata, tdata)\n",
    "\n",
    "and_obj.train()"
   ]
  },
  {
   "cell_type": "code",
   "execution_count": 8,
   "id": "aed63627-2578-465a-957f-4872836c342b",
   "metadata": {},
   "outputs": [
    {
     "name": "stdout",
     "output_type": "stream",
     "text": [
      "(array([0.00013596]), 0)\n",
      "(array([0.01229456]), 0)\n",
      "(array([0.01253344]), 0)\n",
      "(array([0.97554936]), 1)\n"
     ]
    }
   ],
   "source": [
    "# AND Gate prediction\n",
    "\n",
    "test_data = np.array([ [0, 0], [0, 1], [1, 0], [1, 1] ])\n",
    "\n",
    "for data in test_data:\n",
    "    print(and_obj.predict(data))"
   ]
  },
  {
   "cell_type": "code",
   "execution_count": 9,
   "id": "c3dd0b15-fc46-4863-9859-652e393b8973",
   "metadata": {},
   "outputs": [
    {
     "name": "stdout",
     "output_type": "stream",
     "text": [
      "OR object is created\n",
      "Initial loss value =  2.2600417939248\n",
      "step =  0   , loss value =  2.2516608253850285\n",
      "step =  400   , loss value =  1.9039635903694667\n",
      "step =  800   , loss value =  1.653959115541854\n",
      "step =  1200   , loss value =  1.3148275208093003\n",
      "step =  1600   , loss value =  0.9649145285844649\n",
      "step =  2000   , loss value =  0.685384232259387\n",
      "step =  2400   , loss value =  0.49196337015460584\n",
      "step =  2800   , loss value =  0.3643529229911088\n",
      "step =  3200   , loss value =  0.2796695189709504\n",
      "step =  3600   , loss value =  0.2218638686976874\n",
      "step =  4000   , loss value =  0.18103144542153735\n",
      "step =  4400   , loss value =  0.1512133502601806\n",
      "step =  4800   , loss value =  0.12877754006551392\n",
      "step =  5200   , loss value =  0.11144985992374404\n",
      "step =  5600   , loss value =  0.09776204237450192\n",
      "step =  6000   , loss value =  0.08673700979683817\n",
      "step =  6400   , loss value =  0.07770593220139377\n",
      "step =  6800   , loss value =  0.0701990533492466\n",
      "step =  7200   , loss value =  0.06387869977186549\n",
      "step =  7600   , loss value =  0.0584970379372323\n",
      "step =  8000   , loss value =  0.05386874230445875\n",
      "step =  8400   , loss value =  0.04985288337997984\n",
      "step =  8800   , loss value =  0.0463406587057883\n",
      "step =  9200   , loss value =  0.04324691258013961\n",
      "step =  9600   , loss value =  0.0405041652947697\n",
      "step =  10000   , loss value =  0.0380583375411299\n"
     ]
    }
   ],
   "source": [
    "# OR Gate 객체 생성 및 training\n",
    "\n",
    "xdata = np.array([ [0, 0], [0, 1], [1, 0], [1, 1] ])\n",
    "tdata = np.array([0, 1, 1, 1])\n",
    "\n",
    "or_obj = LogicGate(\"OR\", xdata, tdata)\n",
    "\n",
    "or_obj.train()"
   ]
  },
  {
   "cell_type": "code",
   "execution_count": 10,
   "id": "381f1331-3cbf-4fe0-977a-25e977ee86d5",
   "metadata": {},
   "outputs": [
    {
     "name": "stdout",
     "output_type": "stream",
     "text": [
      "NAND object is created\n",
      "Initial loss value =  3.0077250861177482\n",
      "step =  0   , loss value =  2.9837528776989153\n",
      "step =  400   , loss value =  2.2843007981205954\n",
      "step =  800   , loss value =  2.1365189636080677\n",
      "step =  1200   , loss value =  1.8635321150054232\n",
      "step =  1600   , loss value =  1.4920974586047309\n",
      "step =  2000   , loss value =  1.1306569390867809\n",
      "step =  2400   , loss value =  0.828713701568043\n",
      "step =  2800   , loss value =  0.6051276148792346\n",
      "step =  3200   , loss value =  0.4502826256430053\n",
      "step =  3600   , loss value =  0.34439641076021765\n",
      "step =  4000   , loss value =  0.2710355293345995\n",
      "step =  4400   , loss value =  0.21899800885754195\n",
      "step =  4800   , loss value =  0.18108734061075077\n",
      "step =  5200   , loss value =  0.1527333753340328\n",
      "step =  5600   , loss value =  0.13100550385126242\n",
      "step =  6000   , loss value =  0.11398790816022344\n",
      "step =  6400   , loss value =  0.10039914283650042\n",
      "step =  6800   , loss value =  0.08936163834583474\n",
      "step =  7200   , loss value =  0.08026055874453575\n",
      "step =  7600   , loss value =  0.07265583835154513\n",
      "step =  8000   , loss value =  0.06622622719388459\n",
      "step =  8400   , loss value =  0.060732935895640695\n",
      "step =  8800   , loss value =  0.05599551857119192\n",
      "step =  9200   , loss value =  0.05187555299059494\n",
      "step =  9600   , loss value =  0.04826538843274039\n",
      "step =  10000   , loss value =  0.04508025073691618\n"
     ]
    }
   ],
   "source": [
    "# NAND Gate 객체 생성 및 training\n",
    "\n",
    "xdata = np.array([ [0, 0], [0, 1], [1, 0], [1, 1] ])\n",
    "tdata = np.array([1, 1, 1, 0])\n",
    "\n",
    "nand_obj = LogicGate(\"NAND\", xdata, tdata)\n",
    "\n",
    "nand_obj.train()"
   ]
  },
  {
   "cell_type": "code",
   "execution_count": 11,
   "id": "ea807f63-c43d-4bea-ad2f-bdf2f52f952f",
   "metadata": {},
   "outputs": [
    {
     "name": "stdout",
     "output_type": "stream",
     "text": [
      "XOR object is created\n",
      "Initial loss value =  4.136536415712109\n",
      "step =  0   , loss value =  4.058382299522533\n",
      "step =  400   , loss value =  2.7799199826068826\n",
      "step =  800   , loss value =  2.7751023883222223\n",
      "step =  1200   , loss value =  2.7703233546701655\n",
      "step =  1600   , loss value =  2.7650666599484173\n",
      "step =  2000   , loss value =  2.7587201963772645\n",
      "step =  2400   , loss value =  2.7504751378107613\n",
      "step =  2800   , loss value =  2.739209133941519\n",
      "step =  3200   , loss value =  2.723354191348516\n",
      "step =  3600   , loss value =  2.7007599385622925\n",
      "step =  4000   , loss value =  2.668592669351268\n",
      "step =  4400   , loss value =  2.623432534351982\n",
      "step =  4800   , loss value =  2.5619878029771552\n",
      "step =  5200   , loss value =  2.482793566639679\n",
      "step =  5600   , loss value =  2.3879623385351616\n",
      "step =  6000   , loss value =  2.282680513529932\n",
      "step =  6400   , loss value =  2.1721796760240357\n",
      "step =  6800   , loss value =  2.0589735685197055\n",
      "step =  7200   , loss value =  1.9421758075418087\n",
      "step =  7600   , loss value =  1.818365115622313\n",
      "step =  8000   , loss value =  1.6832067087297917\n",
      "step =  8400   , loss value =  1.533785486726154\n",
      "step =  8800   , loss value =  1.371364398301833\n",
      "step =  9200   , loss value =  1.2027729717531024\n",
      "step =  9600   , loss value =  1.0384743560190277\n",
      "step =  10000   , loss value =  0.888281598327558\n"
     ]
    }
   ],
   "source": [
    "# XOR Gate 객체 생성\n",
    "\n",
    "xdata = np.array([ [0, 0], [0, 1], [1, 0], [1, 1] ])\n",
    "tdata = np.array([0, 1, 1, 0])\n",
    "\n",
    "\n",
    "xor_obj = LogicGate(\"XOR\", xdata, tdata)\n",
    "\n",
    "xor_obj.train()"
   ]
  },
  {
   "cell_type": "code",
   "execution_count": 12,
   "id": "53e529c8-6acd-42e4-b509-1d4b202d0ec5",
   "metadata": {},
   "outputs": [
    {
     "name": "stdout",
     "output_type": "stream",
     "text": [
      "(array([0.11925183]), 0)\n",
      "(array([0.81110114]), 1)\n",
      "(array([0.79659877]), 1)\n",
      "(array([0.27713434]), 0)\n"
     ]
    }
   ],
   "source": [
    "test_data = np.array([ [0, 0], [0, 1], [1, 0], [1, 1] ])\n",
    "\n",
    "for data in test_data:\n",
    "    print(xor_obj.predict(data))"
   ]
  },
  {
   "cell_type": "code",
   "execution_count": null,
   "id": "df0ec5be-bed1-4714-8373-3da09e9820ba",
   "metadata": {},
   "outputs": [],
   "source": []
  }
 ],
 "metadata": {
  "kernelspec": {
   "display_name": "Python 3 (ipykernel)",
   "language": "python",
   "name": "python3"
  },
  "language_info": {
   "codemirror_mode": {
    "name": "ipython",
    "version": 3
   },
   "file_extension": ".py",
   "mimetype": "text/x-python",
   "name": "python",
   "nbconvert_exporter": "python",
   "pygments_lexer": "ipython3",
   "version": "3.8.5"
  }
 },
 "nbformat": 4,
 "nbformat_minor": 5
}
