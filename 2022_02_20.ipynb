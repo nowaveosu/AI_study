{
 "cells": [
  {
   "cell_type": "markdown",
   "id": "1ad2b53e-1592-40c9-8699-472aec7d83f0",
   "metadata": {},
   "source": [
    "### 클래스 - class"
   ]
  },
  {
   "cell_type": "code",
   "execution_count": 1,
   "id": "47da12b1-1f23-49ea-b423-8961905ced67",
   "metadata": {},
   "outputs": [
    {
     "name": "stdout",
     "output_type": "stream",
     "text": [
      "PARK is initialized\n",
      "PARK is working in ABCKDEF\n",
      "PARK is sleeping\n",
      "current person object is PARK\n"
     ]
    }
   ],
   "source": [
    "#class 키워드와 def를 사용하여 자신만의 데이터타입 생성가능\n",
    "class Person:\n",
    "\n",
    "    def __init__(self, name):  #__init__(생성자역할), self 다 반드시 기술해야함\n",
    "        self.name = name\n",
    "        print(self.name + \" is initialized\")\n",
    "        \n",
    "    def work(self, company):\n",
    "        print(self.name + \" is working in \" + company)\n",
    "        \n",
    "    def sleep(self):\n",
    "        print(self.name + \" is sleeping\")\n",
    "\n",
    "#Person instance 2개 생성\n",
    "obj = Person(\"PARK\")\n",
    "\n",
    "#method call\n",
    "obj.work(\"ABCKDEF\")\n",
    "obj.sleep()\n",
    "\n",
    "#속성에 직접접근, 기본적으로 파이썬에서는 모두 public\n",
    "print(\"current person object is\", obj.name)\n",
    "\n",
    "    "
   ]
  },
  {
   "cell_type": "code",
   "execution_count": 2,
   "id": "ece71f82-4a9e-4e5a-b9f1-ff4154deec2a",
   "metadata": {},
   "outputs": [
    {
     "name": "stdout",
     "output_type": "stream",
     "text": [
      "PARK is initialized\n",
      "KIM is initialized\n",
      "PARK is working in ABCKDEF\n",
      "KIM is sleeping\n",
      "current person object is PARK ,  KIM\n",
      "Person count == 2\n",
      "2\n"
     ]
    }
   ],
   "source": [
    "class Person:\n",
    "    count = 0     # class 변수는 모든 인스턴스가 공통으로 쓰는 변수\n",
    "    def __init__(self, name):  #__init__(생성자역할), self 다 반드시 기술해야함\n",
    "        self.name = name\n",
    "        Person.count += 1\n",
    "        print(self.name + \" is initialized\")\n",
    "        \n",
    "    def work(self, company):\n",
    "        print(self.name + \" is working in \" + company)\n",
    "        \n",
    "    def sleep(self):\n",
    "        print(self.name + \" is sleeping\")\n",
    "    \n",
    "    @classmethod\n",
    "    def getCount(cls):\n",
    "        return cls.count\n",
    "\n",
    "#Person instance 2개 생성\n",
    "obj1 = Person(\"PARK\")\n",
    "obj2 = Person(\"KIM\")\n",
    "#method call\n",
    "obj1.work(\"ABCKDEF\")\n",
    "obj2.sleep()\n",
    "\n",
    "#속성에 직접접근, 기본적으로 파이썬에서는 모두 public\n",
    "print(\"current person object is\", obj1.name, \", \", obj2.name)\n",
    "\n",
    "#class method 호출\n",
    "print(\"Person count ==\", Person.getCount() )\n",
    "print(Person.count)\n"
   ]
  },
  {
   "cell_type": "code",
   "execution_count": 3,
   "id": "363ef070-22b1-41da-a5de-39a5ca3e12df",
   "metadata": {},
   "outputs": [
    {
     "name": "stdout",
     "output_type": "stream",
     "text": [
      "iniinitialized with PARK ,KIM\n",
      "PARK\n",
      "PARK KIM\n",
      "('PARK', 'KIM')\n"
     ]
    }
   ],
   "source": [
    "#private 선언\n",
    "#파이썬 클래스는 모든 멤버가 public임\n",
    "class PrivateMemberTest :\n",
    "    def __init__(self, name1, name2):\n",
    "        self.name1 = name1\n",
    "        self.__name2 = name2 #private 멤버변수 선언\n",
    "        print(\"iniinitialized with \" + name1 + \" ,\" + name2)\n",
    "\n",
    "    def getNames(self):\n",
    "        self.__printNames()\n",
    "        return self.name1, self.__name2\n",
    "    \n",
    "    def __printNames(self):\n",
    "        print(self.name1, self.__name2)\n",
    "obj = PrivateMemberTest(\"PARK\", \"KIM\")\n",
    "\n",
    "print(obj.name1)\n",
    "print(obj.getNames())\n",
    "#print(obj.__printNames()) 하면 에러발생, 외부로부터 생긴 객체가 접근했으므로\n",
    "#print(obj.__name2)"
   ]
  },
  {
   "cell_type": "code",
   "execution_count": 4,
   "id": "3cf6e46a-a033-49d0-b89d-237f61d8aa48",
   "metadata": {},
   "outputs": [
    {
     "name": "stdout",
     "output_type": "stream",
     "text": [
      "[def]  LEE\n",
      "[SameTest]  LEE\n",
      "[def]  KIM\n",
      "[SameTest]  KIM\n"
     ]
    }
   ],
   "source": [
    "#예제 \n",
    "def print_name(name):\n",
    "    print(\"[def] \", name)\n",
    "class SameTest:\n",
    "    def __init__(self):\n",
    "        pass\n",
    "    def print_name(self, name): \n",
    "        print(\"[SameTest] \", name)\n",
    "    def call_test(self):\n",
    "        #외부함수 호출\n",
    "        print_name(\"KIM\")\n",
    "        #클래스 내부 method 호출\n",
    "        self.print_name(\"KIM\")\n",
    "obj = SameTest()\n",
    "print_name(\"LEE\")\n",
    "obj.print_name(\"LEE\")\n",
    "obj.call_test()"
   ]
  },
  {
   "cell_type": "markdown",
   "id": "0fd424fc-c5a2-4b25-8a7d-d4fb37acff55",
   "metadata": {},
   "source": [
    "#### execpiton -예외처리"
   ]
  },
  {
   "cell_type": "code",
   "execution_count": 5,
   "id": "f63ba26e-de39-4e8b-b0bd-26af4696a203",
   "metadata": {},
   "outputs": [],
   "source": [
    "def calc(list_data):\n",
    "    sum = 0\n",
    "    try:\n",
    "        sum = list_data[0] + list_data[1] + list_data[2]\n",
    "        \n",
    "        if sum<0:\n",
    "            raise Exception(\"Sum is minus\")\n",
    "            \n",
    "    except IndexError as err:\n",
    "        print(str(err))\n",
    "    except Exception as err:\n",
    "        print(str(err))\n",
    "    finally:            #에러가 나든말든 마지막에 수행\n",
    "        print(sum) "
   ]
  },
  {
   "cell_type": "code",
   "execution_count": 6,
   "id": "54a35e30-4130-410b-a35b-48c5e9b4dd0e",
   "metadata": {},
   "outputs": [
    {
     "name": "stdout",
     "output_type": "stream",
     "text": [
      "list index out of range\n",
      "0\n"
     ]
    }
   ],
   "source": [
    "calc([1, 2])"
   ]
  },
  {
   "cell_type": "code",
   "execution_count": 7,
   "id": "cd8abf49-36fa-4d43-a2a4-24296222cb49",
   "metadata": {},
   "outputs": [
    {
     "name": "stdout",
     "output_type": "stream",
     "text": [
      "Sum is minus\n",
      "-97\n"
     ]
    }
   ],
   "source": [
    "calc([1,2,-100]) #원래라면 에러가 떠야하는데 예외처리로 안뜸"
   ]
  },
  {
   "cell_type": "markdown",
   "id": "49040ce2-f0ca-4d2c-be3e-376240da4c72",
   "metadata": {},
   "source": [
    "#### with 구문"
   ]
  },
  {
   "cell_type": "code",
   "execution_count": 8,
   "id": "a974c6e0-7021-4a38-82b8-b4e69aea6be1",
   "metadata": {},
   "outputs": [],
   "source": [
    "#일반적으로 파일, 세션 사용순서에서 close()를 자동으로 해주는 기능\n",
    "#일반\n",
    "f = open(\"./file_test\", 'w')\n",
    "f.write(\"Hello, Python !!!\")\n",
    "f.close()"
   ]
  },
  {
   "cell_type": "code",
   "execution_count": 10,
   "id": "ff9b2995-5d11-4f3e-b1bc-f80144a342b2",
   "metadata": {},
   "outputs": [],
   "source": [
    "#with구문 사용\n",
    "with open(\"./file_test\", 'w') as f:\n",
    "    f.write(\"Hello, Python !!!!\")\n",
    "#with 구문 나가면 알아서 close 됨\n"
   ]
  }
 ],
 "metadata": {
  "kernelspec": {
   "display_name": "Python 3 (ipykernel)",
   "language": "python",
   "name": "python3"
  },
  "language_info": {
   "codemirror_mode": {
    "name": "ipython",
    "version": 3
   },
   "file_extension": ".py",
   "mimetype": "text/x-python",
   "name": "python",
   "nbconvert_exporter": "python",
   "pygments_lexer": "ipython3",
   "version": "3.8.5"
  }
 },
 "nbformat": 4,
 "nbformat_minor": 5
}
