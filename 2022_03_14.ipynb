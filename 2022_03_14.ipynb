{
 "cells": [
  {
   "cell_type": "markdown",
   "id": "fc7fc4f1-5c06-4720-af82-e2cc13273687",
   "metadata": {},
   "source": [
    "### 머신러닝 XOR문제"
   ]
  },
  {
   "cell_type": "code",
   "execution_count": 2,
   "id": "e50316fc-e8fd-47a7-a3bf-cb9daee5e5ec",
   "metadata": {},
   "outputs": [],
   "source": [
    "# 논리테이블 보면 AND 0001 OR 0111 NAND 1110 XOR 0110"
   ]
  },
  {
   "cell_type": "code",
   "execution_count": 1,
   "id": "18c51915-23e0-4275-b295-c5bb58ccf3ce",
   "metadata": {},
   "outputs": [],
   "source": [
    "# 표로나타낼수있거든? 트레이닝데이터랑 개념적으로 동일함\n",
    "# 즉 논리게이트는 손실함수로 크로스 엔트로피를 이용해서 logistic Regression (분류) 알고리즘으로 데이터를 분류, 결과예층가능"
   ]
  },
  {
   "cell_type": "code",
   "execution_count": 1,
   "id": "969361bb-836d-4feb-94f0-72c39755c14d",
   "metadata": {},
   "outputs": [],
   "source": [
    "# z = X*W+b , y = sigmoid(z) 해서 y를 얻음(y(0~1)가 0.5 넘으면1, 0.5보다 작으면 0으로 분류)\n",
    "# train(self) # 수치미분을 이용하여 손실함수값 찾는 메소드\n",
    "# predict(self,xdata) #미래값 예측 메소드"
   ]
  },
  {
   "cell_type": "code",
   "execution_count": 2,
   "id": "d8599158-575f-44e4-b3fb-8c8f9444c897",
   "metadata": {},
   "outputs": [],
   "source": [
    "#5단계\n",
    "#입력데이터생성\n",
    "#정답데이터생성\n",
    "# 논리게이트 객체생성\n",
    "# 손실함수 최소값 갖도록 학습\n",
    "# 임의 데이터에 대해 결과 예측"
   ]
  },
  {
   "cell_type": "code",
   "execution_count": 3,
   "id": "ce5da909-8e91-4946-8519-416c7a01ad61",
   "metadata": {},
   "outputs": [],
   "source": [
    "#가중치 W,b를 위해 멤버 variable은 self.__xdata처럼 프라이빗선언한다."
   ]
  },
  {
   "cell_type": "code",
   "execution_count": 4,
   "id": "c44951ed-a9d5-4813-bd2d-c0eb83548fbc",
   "metadata": {},
   "outputs": [],
   "source": [
    "#AND_GATE [0 0] = 0 [0 1] = 0 [1 0] = 0 [1 1] = 1\n",
    "#OR_GATE [0 0] = 0 [0 1] = 1 [1 0] = 1 [1 1] = 0\n",
    "#NAND_GATE [0 0] = 1 [0 1] = 1 [1 0] = 1 [1 1] = 0\n",
    "#XOR_GATE [0 0] = 0 [0 1] = 0 [1 0] = 0 [1 1] = 1\n",
    "#손실함수값이 정체되어있는 상태에서 predict하면 0110이 안나온다\n",
    "#로지스틱리그레션으로 XOR을 못푼다. 어떻게해야하나?"
   ]
  },
  {
   "cell_type": "code",
   "execution_count": null,
   "id": "cffdacb5-c186-4d34-b2fc-c03e56acde41",
   "metadata": {},
   "outputs": [],
   "source": [
    "#XOR을 x1,x2입력을 넣어 NAND와 OR의 출력을 AND한 결과로 만드는것\n",
    "#머신러닝 XOR문제는 즉 멀티-레이어로 해결할수 있음\n",
    "#이전 게이트의 출력이 다음 게이트의 입력이 된다는 것은 딥러닝의 핵심\n",
    "#신경망(로지스틱리그레션)"
   ]
  }
 ],
 "metadata": {
  "kernelspec": {
   "display_name": "Python 3 (ipykernel)",
   "language": "python",
   "name": "python3"
  },
  "language_info": {
   "codemirror_mode": {
    "name": "ipython",
    "version": 3
   },
   "file_extension": ".py",
   "mimetype": "text/x-python",
   "name": "python",
   "nbconvert_exporter": "python",
   "pygments_lexer": "ipython3",
   "version": "3.8.5"
  }
 },
 "nbformat": 4,
 "nbformat_minor": 5
}
