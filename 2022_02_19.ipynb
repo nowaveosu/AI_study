{
 "cells": [
  {
   "cell_type": "markdown",
   "id": "27c0bb51-7ee3-47b7-90dc-a975400a4add",
   "metadata": {},
   "source": [
    "### 함수"
   ]
  },
  {
   "cell_type": "code",
   "execution_count": 1,
   "id": "eef10f0d-109e-470b-951a-04c7635badcf",
   "metadata": {},
   "outputs": [
    {
     "name": "stdout",
     "output_type": "stream",
     "text": [
      "30\n"
     ]
    }
   ],
   "source": [
    "#함수정의법 def 함수이름 (입력1, 입력2, ...): \n",
    "def sum(x, y):\n",
    "    s = x+y\n",
    "    return s\n",
    "result = sum(10,20)\n",
    "print(result)"
   ]
  },
  {
   "cell_type": "code",
   "execution_count": 2,
   "id": "7c48c590-77fc-4de5-b84e-f8e32627df78",
   "metadata": {},
   "outputs": [
    {
     "name": "stdout",
     "output_type": "stream",
     "text": [
      "101 102 103\n"
     ]
    }
   ],
   "source": [
    "#파이썬 함수는 여러값을 반환할수 있음\n",
    "def multi_ret_func(x):\n",
    "    return x+1, x+2, x+3 \n",
    "x = 100\n",
    "y1, y2, y3 = multi_ret_func(x)\n",
    "print(y1, y2, y3)"
   ]
  },
  {
   "cell_type": "code",
   "execution_count": 3,
   "id": "947ea609-b192-441d-ad35-72b71bef2697",
   "metadata": {},
   "outputs": [
    {
     "name": "stdout",
     "output_type": "stream",
     "text": [
      "count값을 지정해주지 않을 때\n",
      "name == DAVE\n",
      "name == DAVE\n",
      "count값을 지정해줄 때\n",
      "name == GAVE\n",
      "name == GAVE\n",
      "name == GAVE\n",
      "name == GAVE\n",
      "name == GAVE\n"
     ]
    }
   ],
   "source": [
    "#파이썬 default parameter\n",
    "def print_name(name, count=2):\n",
    "    \n",
    "    for i in range(count):\n",
    "        print(\"name ==\", name)\n",
    "print(\"count값을 지정해주지 않을 때\")\n",
    "print_name(\"DAVE\")  \n",
    "print(\"count값을 지정해줄 때\")\n",
    "print_name(\"GAVE\", 5)\n"
   ]
  },
  {
   "cell_type": "code",
   "execution_count": 4,
   "id": "2f84c2da-bbaf-4529-92c3-86e33708c4bd",
   "metadata": {},
   "outputs": [
    {
     "name": "stdout",
     "output_type": "stream",
     "text": [
      "x == 1 , test_list == [1, 2, 3, 100]\n"
     ]
    }
   ],
   "source": [
    "# mutable 파라미터(입력 파라미터가 변형가능), immutable 파라미터 \n",
    "#mutable(list, dict,numpy),immutable(숫자, 문자, tuple)\n",
    "def mutable_immutable_func( int_x, input_list): #정수형, 리스트\n",
    "    int_x += 1\n",
    "    input_list.append(100)\n",
    "x = 1  \n",
    "test_list = [1,2,3]\n",
    "\n",
    "mutable_immutable_func(x, test_list)\n",
    "print(\"x ==\", x, \", test_list ==\", test_list) #함수를 거쳤을때 숫자는 안변한 반면 리스트는 변형되었다."
   ]
  },
  {
   "cell_type": "markdown",
   "id": "90920ea5-814c-4aaa-956c-2e00bcbead1f",
   "metadata": {},
   "source": [
    "### lambda function"
   ]
  },
  {
   "cell_type": "code",
   "execution_count": 5,
   "id": "fb097b0b-7fa7-4ec7-a492-174701199426",
   "metadata": {},
   "outputs": [],
   "source": [
    "#람다는 한줄로 함수를 작성하는 방법, 다른함수의 인수로 넣을때 주로사용\n",
    "#함수명 = lambda 입력1, 입력2,...: 대체되는 표현식\n",
    "# C언어의 #define P printf가 P만써도 printf함수가 되는것과같음"
   ]
  },
  {
   "cell_type": "code",
   "execution_count": 6,
   "id": "e915c60e-2fa5-4663-8ded-b776605a7765",
   "metadata": {},
   "outputs": [
    {
     "name": "stdout",
     "output_type": "stream",
     "text": [
      "100\n",
      "101\n",
      "102\n",
      "103\n"
     ]
    }
   ],
   "source": [
    "# lamda 함수 선언\n",
    "f = lambda x : x+100\n",
    "# 수학 함수표현 f(x)를 x+100으로 대체된다는 의미\n",
    "for i in range(4):\n",
    "    print(f(i))       \n",
    "#f(0) = 0 + 100\n",
    "#f(1) = 1 + 100\n",
    "#f(2) = 2 + 100"
   ]
  },
  {
   "cell_type": "code",
   "execution_count": 8,
   "id": "4dc86a6d-84a2-4e4a-aef7-43e64db5a422",
   "metadata": {},
   "outputs": [
    {
     "name": "stdout",
     "output_type": "stream",
     "text": [
      "input1 == 100 , input2 == 200\n",
      "hello python\n"
     ]
    }
   ],
   "source": [
    "#lambda 에서 입력값을 반드시 이용할 필요는 없음\n",
    "def print_hello():\n",
    "    \n",
    "    print(\"hello python\")\n",
    "    \n",
    "def test_lambda(s,t):\n",
    "    \n",
    "    print(\"input1 ==\", s, \", input2 ==\", t)\n",
    "    \n",
    "s = 100 #s,t값 선언이 없으면 error \n",
    "t = 200\n",
    "\n",
    "fx = lambda x, y : test_lambda(s, t) #fx(x,y) = test_lambda(s,t) x,y가 s,t로 대입되는건 아님, 호출할뿐\n",
    "fy = lambda x, y : print_hello()  #fy(x,y) = print_hello() 수학적표현\n",
    "\n",
    "fx(500, 1000)\n",
    "fy(300, 600) #입력값이 사용되지 않음"
   ]
  }
 ],
 "metadata": {
  "kernelspec": {
   "display_name": "Python 3 (ipykernel)",
   "language": "python",
   "name": "python3"
  },
  "language_info": {
   "codemirror_mode": {
    "name": "ipython",
    "version": 3
   },
   "file_extension": ".py",
   "mimetype": "text/x-python",
   "name": "python",
   "nbconvert_exporter": "python",
   "pygments_lexer": "ipython3",
   "version": "3.8.5"
  }
 },
 "nbformat": 4,
 "nbformat_minor": 5
}
