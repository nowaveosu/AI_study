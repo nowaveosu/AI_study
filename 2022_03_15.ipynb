{
 "cells": [
  {
   "cell_type": "markdown",
   "id": "f89d2260-7bdb-4bb2-be16-34ba57588969",
   "metadata": {},
   "source": [
    "### 딥러닝(1)"
   ]
  },
  {
   "cell_type": "code",
   "execution_count": 2,
   "id": "bf164a9e-6cf4-42c5-aa24-c2a5f0b317a7",
   "metadata": {},
   "outputs": [],
   "source": [
    "# xor을 하나의 logistic 리그레션으로 못구하니까\n",
    "# nand or and로 여러 logistic regression으로 xor을 구현함\n",
    "# 이 원리는 뉴런의 동작과 비슷( 입력들받음ㅡ처리ㅡ다음뉴런으로 전달)\n",
    "# 입력값들의 모든 합이 임계점에 도달해야만 출력신호를 발생\n",
    "# 이런 함수를 활성화함수라고 하는데\n",
    "# sigmoid ReLu등이 있음\n",
    "# sigmoid는 임계점 0.5임, 입력값이 0.5넘어야 1을 출력함(이하면 출력없는상태 0)\n"
   ]
  },
  {
   "cell_type": "code",
   "execution_count": 3,
   "id": "4a3013cf-1d0d-44e7-a42d-534798b4eec1",
   "metadata": {},
   "outputs": [],
   "source": [
    "#뉴런을 머신러닝에 적용하기 위해선\n",
    "#입력값x가중치+바이어스한 z를 시그모이드에 전달하면 출력하는\n",
    "# multi variable logistic regression시스템 구축하는것이 필요\n",
    "# 뉴런들이 이루는 신경망처럼 인공신경망은 여러 logistic regression으로 이뤄짐"
   ]
  },
  {
   "cell_type": "code",
   "execution_count": 4,
   "id": "802eafac-90cf-457d-9264-59ce852dec64",
   "metadata": {},
   "outputs": [],
   "source": [
    "# 딥러닝이란 입력층, 은닉층, 출력층을 구축하고\n",
    "# 출력층의 오차가 작아지도록 w와 b를 조정하는것\n",
    "# 딥러닝 구조에서 은닉층이 깊어질수록 정확도가 높아짐, 그래서 deep"
   ]
  },
  {
   "cell_type": "code",
   "execution_count": 5,
   "id": "6ee7342f-c567-40c1-8931-fdefbd0005cd",
   "metadata": {},
   "outputs": [],
   "source": [
    "# W21은 노드1에서 노드2로 전달되는 신호의 가중치를 뜻함\n",
    "# 즉, 다음계층의 노드번호가 먼저나옴"
   ]
  },
  {
   "cell_type": "code",
   "execution_count": null,
   "id": "bd3f2674-3ee7-424f-a560-8aff258f51ca",
   "metadata": {},
   "outputs": [],
   "source": [
    "#이런 가중치값들은 층과층사이 모든 노드에 초기화되어있으며\n",
    "# 데이터가 입력층에서 출력층으로 전파될때 각층 노드의 모든 가중치는 신호를 약,강화시키며\n",
    "# 최종적으로는 오차가 최소값이 될때 최적값을 갖게 됨."
   ]
  }
 ],
 "metadata": {
  "kernelspec": {
   "display_name": "Python 3 (ipykernel)",
   "language": "python",
   "name": "python3"
  },
  "language_info": {
   "codemirror_mode": {
    "name": "ipython",
    "version": 3
   },
   "file_extension": ".py",
   "mimetype": "text/x-python",
   "name": "python",
   "nbconvert_exporter": "python",
   "pygments_lexer": "ipython3",
   "version": "3.8.5"
  }
 },
 "nbformat": 4,
 "nbformat_minor": 5
}
