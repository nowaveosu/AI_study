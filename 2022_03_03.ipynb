{
 "cells": [
  {
   "cell_type": "markdown",
   "id": "186dd291-f709-469b-8f7c-d1a845a07823",
   "metadata": {},
   "source": [
    "### logistic Regression (1)"
   ]
  },
  {
   "cell_type": "code",
   "execution_count": 1,
   "id": "0245aa05-1af0-4057-b63e-925353cc07fa",
   "metadata": {},
   "outputs": [],
   "source": [
    "#Classification\n",
    "#미지의 입력데이터에 대해 결과가 어떤종류값인지 예측\n",
    "# 스팸,notSpam 악성종양1,종양0\n",
    "# 공부시간, Pass Fail알려준뒤 new공부시간 주어졌을때 Pass, Fail을 예측해줌"
   ]
  },
  {
   "cell_type": "code",
   "execution_count": 2,
   "id": "abbd62ab-d352-4620-a11f-4b262e8ecc7a",
   "metadata": {},
   "outputs": [],
   "source": [
    "#어떤 알고리즘이 사용되는가?\n",
    "# logistic regression 알고리즘은\n",
    "# 1분포된 데이터를 가장 잘 구별하는 직선을 찾고 \n",
    "# 2직선기준 위1 아래0등으로 데이터를 분류\n",
    "# classification중 정확도높아서 딥러닝에서도 사용됨\n",
    "# (x,t) > regression > classification > true or false"
   ]
  },
  {
   "cell_type": "code",
   "execution_count": 1,
   "id": "d69d6f96-f870-49ae-bdc6-ab8cdde68e0b",
   "metadata": {},
   "outputs": [],
   "source": [
    "# 시그모이드함수 입력값 z가 음수일수록 y는 0, 양수일수록 1 중간 z-0일때 0.5인걸 말함\n",
    "# y가 1또는 0을 가져야만 하는 분류시스템에서 함수값 0~1값을 가지는 시그모이드 함수를 사용할수있음\n",
    "# 즉 z=Wx+b가 어떤 값을 갖더라도 시그모이드의 입력으로 z가 들어가서 y가 0.5보다 크면 1로 출력, 0.5보다 작으면 0으로 출력한다\n",
    "# 시그모이드 함수는 0과 1사이값만 출력하므로 sigmoid(z)는 결과가 일어날 확률을 의미함"
   ]
  },
  {
   "cell_type": "code",
   "execution_count": 2,
   "id": "30e7caa5-95a3-4a50-945a-6036dacdf35a",
   "metadata": {},
   "outputs": [],
   "source": [
    "# 분류시스템은 시그모이드함수로 1또는0을 가지므로 선형회귀와 다른 손실함수가 필요\n",
    "# E(W,b) = 시그마 로그 어쩌고임\n",
    "# classification에서 loss function은 한번 보기만하자"
   ]
  },
  {
   "cell_type": "code",
   "execution_count": null,
   "id": "7056d894-9039-474f-9767-f64195ad37ab",
   "metadata": {},
   "outputs": [],
   "source": [
    "# 어떠한 손실함수가 오더라도 최소값을 찾는 W,b를 찾는게 중요\n",
    "# classification의 W,b 계산 프로세스\n",
    "# 트레이닝 데이터 입력을 통한 y와 정답 t사이가 최소값이 될때까지\n",
    "# W와 b를 반복한다."
   ]
  }
 ],
 "metadata": {
  "kernelspec": {
   "display_name": "Python 3 (ipykernel)",
   "language": "python",
   "name": "python3"
  },
  "language_info": {
   "codemirror_mode": {
    "name": "ipython",
    "version": 3
   },
   "file_extension": ".py",
   "mimetype": "text/x-python",
   "name": "python",
   "nbconvert_exporter": "python",
   "pygments_lexer": "ipython3",
   "version": "3.8.5"
  }
 },
 "nbformat": 4,
 "nbformat_minor": 5
}
