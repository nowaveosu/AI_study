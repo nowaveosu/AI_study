{
 "cells": [
  {
   "cell_type": "code",
   "execution_count": 1,
   "id": "85f87f4b-4042-4651-b345-6455d56d29eb",
   "metadata": {},
   "outputs": [],
   "source": [
    "#linear regression 2"
   ]
  },
  {
   "cell_type": "code",
   "execution_count": 2,
   "id": "b1e8c3d1-e821-43c5-8023-945e04897214",
   "metadata": {},
   "outputs": [],
   "source": [
    "#y = Wx + b\n",
    "#손실함수 E(W,b) = 1/n 시그마[t-y]^2\n",
    "# W, b를 찾아야함"
   ]
  },
  {
   "cell_type": "markdown",
   "id": "d7fd973e-7f8c-47e3-8d57-21b84e9fb15d",
   "metadata": {},
   "source": [
    "### 경사하강법 gradient decent algorithm"
   ]
  },
  {
   "cell_type": "code",
   "execution_count": 3,
   "id": "b9889a6f-3de9-4a2c-a546-91d2652fefa1",
   "metadata": {},
   "outputs": [],
   "source": [
    "#가중치 W값을 변화시키면서 손실함수값을 0에 가깝게 해야함\n",
    "# 일단 b 무시하고 E(W)로 그릴때, 손실함수는 이차함수마냥 포물선형태임. 최저점을 찾아야함\n"
   ]
  },
  {
   "cell_type": "code",
   "execution_count": 4,
   "id": "c7f860d8-c1e0-4bca-b902-7336d034f703",
   "metadata": {},
   "outputs": [],
   "source": [
    "# 1. 임의의 가중치 W선택 2. W에서 미분을 구함 3. 그 미분값이 작아지는 방향으로 W변화\n",
    "# 4. 최종적으로 기울기가 더이상 작아지지 않는곳을 찾으면 멈춤\n",
    "# 이처럼 W에서의 직선의 기울기인 미분값으로 손실함수 최소값을 찾는것을 경사하강법이라고 함"
   ]
  },
  {
   "cell_type": "code",
   "execution_count": 5,
   "id": "e2cdb35e-d4ca-4aea-9571-679d05514f80",
   "metadata": {},
   "outputs": [],
   "source": [
    "# dE(W)/dW 즉, 기울기가 양수면 W감소, 음수면 W증가시킨다.\n",
    "# Wnew = Wold - (dE(W)/dW) * a(학습율) \n",
    "# 지속적으로 W값을 업데이트함"
   ]
  },
  {
   "cell_type": "code",
   "execution_count": 6,
   "id": "cb93ae68-b880-4045-b14a-c663e2b38e26",
   "metadata": {},
   "outputs": [],
   "source": [
    "# linear regression 목표는 트레이닝 데이터 특성, 분포를 가장 잘 나타내는\n",
    "# 임의의 직선 y = Wx + b의 W,b를 구하는것\n",
    "# E(W,b)를 편미분을 통해 W, b를 알아낼 수 있음\n",
    "# bnew = bold - (dE(b)/db) * a(학습율) "
   ]
  }
 ],
 "metadata": {
  "kernelspec": {
   "display_name": "Python 3 (ipykernel)",
   "language": "python",
   "name": "python3"
  },
  "language_info": {
   "codemirror_mode": {
    "name": "ipython",
    "version": 3
   },
   "file_extension": ".py",
   "mimetype": "text/x-python",
   "name": "python",
   "nbconvert_exporter": "python",
   "pygments_lexer": "ipython3",
   "version": "3.8.5"
  }
 },
 "nbformat": 4,
 "nbformat_minor": 5
}
