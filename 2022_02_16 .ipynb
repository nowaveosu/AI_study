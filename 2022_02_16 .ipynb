{
 "cells": [
  {
   "cell_type": "markdown",
   "id": "2890c400-469a-41e5-8088-350a38e72c32",
   "metadata": {},
   "source": [
    "## hello world"
   ]
  },
  {
   "cell_type": "markdown",
   "id": "66a04eb9-3f62-44f9-bc56-4dfa9951d0f3",
   "metadata": {},
   "source": [
    "### this repository is for final_project"
   ]
  }
 ],
 "metadata": {
  "kernelspec": {
   "display_name": "Python 3 (ipykernel)",
   "language": "python",
   "name": "python3"
  },
  "language_info": {
   "codemirror_mode": {
    "name": "ipython",
    "version": 3
   },
   "file_extension": ".py",
   "mimetype": "text/x-python",
   "name": "python",
   "nbconvert_exporter": "python",
   "pygments_lexer": "ipython3",
   "version": "3.8.5"
  }
 },
 "nbformat": 4,
 "nbformat_minor": 5
}
